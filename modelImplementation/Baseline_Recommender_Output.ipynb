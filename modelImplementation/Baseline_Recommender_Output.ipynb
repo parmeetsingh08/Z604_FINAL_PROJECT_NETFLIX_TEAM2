{
 "cells": [
  {
   "cell_type": "code",
   "execution_count": 4,
   "metadata": {
    "collapsed": false
   },
   "outputs": [
    {
     "data": {
      "text/html": [
       "<pre>Finished parsing file D:\\CD\\Sp16\\BD\\ETL\\Prod\\Final_UserMovieRating_Filtered.csv</pre>"
      ],
      "text/plain": [
       "Finished parsing file D:\\CD\\Sp16\\BD\\ETL\\Prod\\Final_UserMovieRating_Filtered.csv"
      ]
     },
     "metadata": {},
     "output_type": "display_data"
    },
    {
     "data": {
      "text/html": [
       "<pre>Parsing completed. Parsed 100 lines in 0.994706 secs.</pre>"
      ],
      "text/plain": [
       "Parsing completed. Parsed 100 lines in 0.994706 secs."
      ]
     },
     "metadata": {},
     "output_type": "display_data"
    },
    {
     "name": "stdout",
     "output_type": "stream",
     "text": [
      "------------------------------------------------------\n",
      "Inferred types from first line of file as \n",
      "column_type_hints=[long,long,long]\n",
      "If parsing fails due to incorrect types, you can correct\n",
      "the inferred type list above and pass it to read_csv in\n",
      "the column_type_hints argument\n",
      "------------------------------------------------------\n"
     ]
    },
    {
     "data": {
      "text/html": [
       "<pre>Read 3365590 lines. Lines per second: 1.96679e+006</pre>"
      ],
      "text/plain": [
       "Read 3365590 lines. Lines per second: 1.96679e+006"
      ]
     },
     "metadata": {},
     "output_type": "display_data"
    },
    {
     "data": {
      "text/html": [
       "<pre>Read 29628641 lines. Lines per second: 4.23844e+006</pre>"
      ],
      "text/plain": [
       "Read 29628641 lines. Lines per second: 4.23844e+006"
      ]
     },
     "metadata": {},
     "output_type": "display_data"
    },
    {
     "data": {
      "text/html": [
       "<pre>Read 55719334 lines. Lines per second: 4.55589e+006</pre>"
      ],
      "text/plain": [
       "Read 55719334 lines. Lines per second: 4.55589e+006"
      ]
     },
     "metadata": {},
     "output_type": "display_data"
    },
    {
     "data": {
      "text/html": [
       "<pre>Finished parsing file D:\\CD\\Sp16\\BD\\ETL\\Prod\\Final_UserMovieRating_Filtered.csv</pre>"
      ],
      "text/plain": [
       "Finished parsing file D:\\CD\\Sp16\\BD\\ETL\\Prod\\Final_UserMovieRating_Filtered.csv"
      ]
     },
     "metadata": {},
     "output_type": "display_data"
    },
    {
     "data": {
      "text/html": [
       "<pre>Parsing completed. Parsed 60547972 lines in 12.8146 secs.</pre>"
      ],
      "text/plain": [
       "Parsing completed. Parsed 60547972 lines in 12.8146 secs."
      ]
     },
     "metadata": {},
     "output_type": "display_data"
    },
    {
     "data": {
      "text/html": [
       "<div style=\"max-height:1000px;max-width:1500px;overflow:auto;\"><table frame=\"box\" rules=\"cols\">\n",
       "    <tr>\n",
       "        <th style=\"padding-left: 1em; padding-right: 1em; text-align: center\">user_id</th>\n",
       "        <th style=\"padding-left: 1em; padding-right: 1em; text-align: center\">item_id</th>\n",
       "        <th style=\"padding-left: 1em; padding-right: 1em; text-align: center\">rating</th>\n",
       "    </tr>\n",
       "    <tr>\n",
       "        <td style=\"padding-left: 1em; padding-right: 1em; text-align: center; vertical-align: top\">273292</td>\n",
       "        <td style=\"padding-left: 1em; padding-right: 1em; text-align: center; vertical-align: top\">8192</td>\n",
       "        <td style=\"padding-left: 1em; padding-right: 1em; text-align: center; vertical-align: top\">4</td>\n",
       "    </tr>\n",
       "    <tr>\n",
       "        <td style=\"padding-left: 1em; padding-right: 1em; text-align: center; vertical-align: top\">1945809</td>\n",
       "        <td style=\"padding-left: 1em; padding-right: 1em; text-align: center; vertical-align: top\">8192</td>\n",
       "        <td style=\"padding-left: 1em; padding-right: 1em; text-align: center; vertical-align: top\">1</td>\n",
       "    </tr>\n",
       "    <tr>\n",
       "        <td style=\"padding-left: 1em; padding-right: 1em; text-align: center; vertical-align: top\">1794216</td>\n",
       "        <td style=\"padding-left: 1em; padding-right: 1em; text-align: center; vertical-align: top\">8192</td>\n",
       "        <td style=\"padding-left: 1em; padding-right: 1em; text-align: center; vertical-align: top\">5</td>\n",
       "    </tr>\n",
       "    <tr>\n",
       "        <td style=\"padding-left: 1em; padding-right: 1em; text-align: center; vertical-align: top\">1863853</td>\n",
       "        <td style=\"padding-left: 1em; padding-right: 1em; text-align: center; vertical-align: top\">8192</td>\n",
       "        <td style=\"padding-left: 1em; padding-right: 1em; text-align: center; vertical-align: top\">4</td>\n",
       "    </tr>\n",
       "    <tr>\n",
       "        <td style=\"padding-left: 1em; padding-right: 1em; text-align: center; vertical-align: top\">2630287</td>\n",
       "        <td style=\"padding-left: 1em; padding-right: 1em; text-align: center; vertical-align: top\">8192</td>\n",
       "        <td style=\"padding-left: 1em; padding-right: 1em; text-align: center; vertical-align: top\">1</td>\n",
       "    </tr>\n",
       "    <tr>\n",
       "        <td style=\"padding-left: 1em; padding-right: 1em; text-align: center; vertical-align: top\">592921</td>\n",
       "        <td style=\"padding-left: 1em; padding-right: 1em; text-align: center; vertical-align: top\">8192</td>\n",
       "        <td style=\"padding-left: 1em; padding-right: 1em; text-align: center; vertical-align: top\">4</td>\n",
       "    </tr>\n",
       "    <tr>\n",
       "        <td style=\"padding-left: 1em; padding-right: 1em; text-align: center; vertical-align: top\">844736</td>\n",
       "        <td style=\"padding-left: 1em; padding-right: 1em; text-align: center; vertical-align: top\">8192</td>\n",
       "        <td style=\"padding-left: 1em; padding-right: 1em; text-align: center; vertical-align: top\">5</td>\n",
       "    </tr>\n",
       "    <tr>\n",
       "        <td style=\"padding-left: 1em; padding-right: 1em; text-align: center; vertical-align: top\">2429465</td>\n",
       "        <td style=\"padding-left: 1em; padding-right: 1em; text-align: center; vertical-align: top\">8192</td>\n",
       "        <td style=\"padding-left: 1em; padding-right: 1em; text-align: center; vertical-align: top\">5</td>\n",
       "    </tr>\n",
       "    <tr>\n",
       "        <td style=\"padding-left: 1em; padding-right: 1em; text-align: center; vertical-align: top\">2457291</td>\n",
       "        <td style=\"padding-left: 1em; padding-right: 1em; text-align: center; vertical-align: top\">8192</td>\n",
       "        <td style=\"padding-left: 1em; padding-right: 1em; text-align: center; vertical-align: top\">3</td>\n",
       "    </tr>\n",
       "    <tr>\n",
       "        <td style=\"padding-left: 1em; padding-right: 1em; text-align: center; vertical-align: top\">1947516</td>\n",
       "        <td style=\"padding-left: 1em; padding-right: 1em; text-align: center; vertical-align: top\">8192</td>\n",
       "        <td style=\"padding-left: 1em; padding-right: 1em; text-align: center; vertical-align: top\">4</td>\n",
       "    </tr>\n",
       "</table>\n",
       "[60547972 rows x 3 columns]<br/>Note: Only the head of the SFrame is printed.<br/>You can use print_rows(num_rows=m, num_columns=n) to print more rows and columns.\n",
       "</div>"
      ],
      "text/plain": [
       "Columns:\n",
       "\tuser_id\tint\n",
       "\titem_id\tint\n",
       "\trating\tint\n",
       "\n",
       "Rows: 60547972\n",
       "\n",
       "Data:\n",
       "+---------+---------+--------+\n",
       "| user_id | item_id | rating |\n",
       "+---------+---------+--------+\n",
       "|  273292 |   8192  |   4    |\n",
       "| 1945809 |   8192  |   1    |\n",
       "| 1794216 |   8192  |   5    |\n",
       "| 1863853 |   8192  |   4    |\n",
       "| 2630287 |   8192  |   1    |\n",
       "|  592921 |   8192  |   4    |\n",
       "|  844736 |   8192  |   5    |\n",
       "| 2429465 |   8192  |   5    |\n",
       "| 2457291 |   8192  |   3    |\n",
       "| 1947516 |   8192  |   4    |\n",
       "+---------+---------+--------+\n",
       "[60547972 rows x 3 columns]\n",
       "Note: Only the head of the SFrame is printed.\n",
       "You can use print_rows(num_rows=m, num_columns=n) to print more rows and columns."
      ]
     },
     "execution_count": 4,
     "metadata": {},
     "output_type": "execute_result"
    }
   ],
   "source": [
    "import graphlab as gl\n",
    "import os\n",
    "#author: Anand Karandikar and Sameeksha Vaity\n",
    "sf = gl.SFrame.read_csv('D:/CD/Sp16/BD/ETL/Prod/Final_UserMovieRating_Filtered.csv');\n",
    "sf\n",
    "\n"
   ]
  },
  {
   "cell_type": "code",
   "execution_count": 5,
   "metadata": {
    "collapsed": false
   },
   "outputs": [
    {
     "data": {
      "text/html": [
       "<pre>Recsys training: model = ranking_factorization_recommender</pre>"
      ],
      "text/plain": [
       "Recsys training: model = ranking_factorization_recommender"
      ]
     },
     "metadata": {},
     "output_type": "display_data"
    },
    {
     "data": {
      "text/html": [
       "<pre>Preparing data set.</pre>"
      ],
      "text/plain": [
       "Preparing data set."
      ]
     },
     "metadata": {},
     "output_type": "display_data"
    },
    {
     "data": {
      "text/html": [
       "<pre>    Data has 60547972 observations with 478176 users and 5157 items.</pre>"
      ],
      "text/plain": [
       "    Data has 60547972 observations with 478176 users and 5157 items."
      ]
     },
     "metadata": {},
     "output_type": "display_data"
    },
    {
     "data": {
      "text/html": [
       "<pre>    Data prepared in: 59.4164s</pre>"
      ],
      "text/plain": [
       "    Data prepared in: 59.4164s"
      ]
     },
     "metadata": {},
     "output_type": "display_data"
    },
    {
     "data": {
      "text/html": [
       "<pre>Training ranking_factorization_recommender for recommendations.</pre>"
      ],
      "text/plain": [
       "Training ranking_factorization_recommender for recommendations."
      ]
     },
     "metadata": {},
     "output_type": "display_data"
    },
    {
     "data": {
      "text/html": [
       "<pre>+--------------------------------+--------------------------------------------------+----------+</pre>"
      ],
      "text/plain": [
       "+--------------------------------+--------------------------------------------------+----------+"
      ]
     },
     "metadata": {},
     "output_type": "display_data"
    },
    {
     "data": {
      "text/html": [
       "<pre>| Parameter                      | Description                                      | Value    |</pre>"
      ],
      "text/plain": [
       "| Parameter                      | Description                                      | Value    |"
      ]
     },
     "metadata": {},
     "output_type": "display_data"
    },
    {
     "data": {
      "text/html": [
       "<pre>+--------------------------------+--------------------------------------------------+----------+</pre>"
      ],
      "text/plain": [
       "+--------------------------------+--------------------------------------------------+----------+"
      ]
     },
     "metadata": {},
     "output_type": "display_data"
    },
    {
     "data": {
      "text/html": [
       "<pre>| num_factors                    | Factor Dimension                                 | 32       |</pre>"
      ],
      "text/plain": [
       "| num_factors                    | Factor Dimension                                 | 32       |"
      ]
     },
     "metadata": {},
     "output_type": "display_data"
    },
    {
     "data": {
      "text/html": [
       "<pre>| regularization                 | L2 Regularization on Factors                     | 1e-009   |</pre>"
      ],
      "text/plain": [
       "| regularization                 | L2 Regularization on Factors                     | 1e-009   |"
      ]
     },
     "metadata": {},
     "output_type": "display_data"
    },
    {
     "data": {
      "text/html": [
       "<pre>| solver                         | Solver used for training                         | sgd      |</pre>"
      ],
      "text/plain": [
       "| solver                         | Solver used for training                         | sgd      |"
      ]
     },
     "metadata": {},
     "output_type": "display_data"
    },
    {
     "data": {
      "text/html": [
       "<pre>| linear_regularization          | L2 Regularization on Linear Coefficients         | 1e-009   |</pre>"
      ],
      "text/plain": [
       "| linear_regularization          | L2 Regularization on Linear Coefficients         | 1e-009   |"
      ]
     },
     "metadata": {},
     "output_type": "display_data"
    },
    {
     "data": {
      "text/html": [
       "<pre>| ranking_regularization         | Rank-based Regularization Weight                 | 0.25     |</pre>"
      ],
      "text/plain": [
       "| ranking_regularization         | Rank-based Regularization Weight                 | 0.25     |"
      ]
     },
     "metadata": {},
     "output_type": "display_data"
    },
    {
     "data": {
      "text/html": [
       "<pre>| max_iterations                 | Maximum Number of Iterations                     | 25       |</pre>"
      ],
      "text/plain": [
       "| max_iterations                 | Maximum Number of Iterations                     | 25       |"
      ]
     },
     "metadata": {},
     "output_type": "display_data"
    },
    {
     "data": {
      "text/html": [
       "<pre>+--------------------------------+--------------------------------------------------+----------+</pre>"
      ],
      "text/plain": [
       "+--------------------------------+--------------------------------------------------+----------+"
      ]
     },
     "metadata": {},
     "output_type": "display_data"
    },
    {
     "data": {
      "text/html": [
       "<pre>  Optimizing model using SGD; tuning step size.</pre>"
      ],
      "text/plain": [
       "  Optimizing model using SGD; tuning step size."
      ]
     },
     "metadata": {},
     "output_type": "display_data"
    },
    {
     "data": {
      "text/html": [
       "<pre>  Using 7568496 / 60547972 points for tuning the step size.</pre>"
      ],
      "text/plain": [
       "  Using 7568496 / 60547972 points for tuning the step size."
      ]
     },
     "metadata": {},
     "output_type": "display_data"
    },
    {
     "data": {
      "text/html": [
       "<pre>+---------+-------------------+------------------------------------------+</pre>"
      ],
      "text/plain": [
       "+---------+-------------------+------------------------------------------+"
      ]
     },
     "metadata": {},
     "output_type": "display_data"
    },
    {
     "data": {
      "text/html": [
       "<pre>| Attempt | Initial Step Size | Estimated Objective Value                |</pre>"
      ],
      "text/plain": [
       "| Attempt | Initial Step Size | Estimated Objective Value                |"
      ]
     },
     "metadata": {},
     "output_type": "display_data"
    },
    {
     "data": {
      "text/html": [
       "<pre>+---------+-------------------+------------------------------------------+</pre>"
      ],
      "text/plain": [
       "+---------+-------------------+------------------------------------------+"
      ]
     },
     "metadata": {},
     "output_type": "display_data"
    },
    {
     "data": {
      "text/html": [
       "<pre>| 0       | 25                | Not Viable                               |</pre>"
      ],
      "text/plain": [
       "| 0       | 25                | Not Viable                               |"
      ]
     },
     "metadata": {},
     "output_type": "display_data"
    },
    {
     "data": {
      "text/html": [
       "<pre>| 1       | 6.25              | Not Viable                               |</pre>"
      ],
      "text/plain": [
       "| 1       | 6.25              | Not Viable                               |"
      ]
     },
     "metadata": {},
     "output_type": "display_data"
    },
    {
     "data": {
      "text/html": [
       "<pre>| 2       | 1.5625            | Not Viable                               |</pre>"
      ],
      "text/plain": [
       "| 2       | 1.5625            | Not Viable                               |"
      ]
     },
     "metadata": {},
     "output_type": "display_data"
    },
    {
     "data": {
      "text/html": [
       "<pre>| 3       | 0.390625          | Not Viable                               |</pre>"
      ],
      "text/plain": [
       "| 3       | 0.390625          | Not Viable                               |"
      ]
     },
     "metadata": {},
     "output_type": "display_data"
    },
    {
     "data": {
      "text/html": [
       "<pre>| 4       | 0.0976562         | Not Viable                               |</pre>"
      ],
      "text/plain": [
       "| 4       | 0.0976562         | Not Viable                               |"
      ]
     },
     "metadata": {},
     "output_type": "display_data"
    },
    {
     "data": {
      "text/html": [
       "<pre>| 5       | 0.0244141         | 1.2547                                   |</pre>"
      ],
      "text/plain": [
       "| 5       | 0.0244141         | 1.2547                                   |"
      ]
     },
     "metadata": {},
     "output_type": "display_data"
    },
    {
     "data": {
      "text/html": [
       "<pre>| 6       | 0.012207          | 1.50591                                  |</pre>"
      ],
      "text/plain": [
       "| 6       | 0.012207          | 1.50591                                  |"
      ]
     },
     "metadata": {},
     "output_type": "display_data"
    },
    {
     "data": {
      "text/html": [
       "<pre>| 7       | 0.00610352        | 1.6504                                   |</pre>"
      ],
      "text/plain": [
       "| 7       | 0.00610352        | 1.6504                                   |"
      ]
     },
     "metadata": {},
     "output_type": "display_data"
    },
    {
     "data": {
      "text/html": [
       "<pre>| 8       | 0.00305176        | 1.67627                                  |</pre>"
      ],
      "text/plain": [
       "| 8       | 0.00305176        | 1.67627                                  |"
      ]
     },
     "metadata": {},
     "output_type": "display_data"
    },
    {
     "data": {
      "text/html": [
       "<pre>+---------+-------------------+------------------------------------------+</pre>"
      ],
      "text/plain": [
       "+---------+-------------------+------------------------------------------+"
      ]
     },
     "metadata": {},
     "output_type": "display_data"
    },
    {
     "data": {
      "text/html": [
       "<pre>| Final   | 0.0244141         | 1.2547                                   |</pre>"
      ],
      "text/plain": [
       "| Final   | 0.0244141         | 1.2547                                   |"
      ]
     },
     "metadata": {},
     "output_type": "display_data"
    },
    {
     "data": {
      "text/html": [
       "<pre>+---------+-------------------+------------------------------------------+</pre>"
      ],
      "text/plain": [
       "+---------+-------------------+------------------------------------------+"
      ]
     },
     "metadata": {},
     "output_type": "display_data"
    },
    {
     "data": {
      "text/html": [
       "<pre>Starting Optimization.</pre>"
      ],
      "text/plain": [
       "Starting Optimization."
      ]
     },
     "metadata": {},
     "output_type": "display_data"
    },
    {
     "data": {
      "text/html": [
       "<pre>+---------+--------------+-------------------+-----------------------+-------------+</pre>"
      ],
      "text/plain": [
       "+---------+--------------+-------------------+-----------------------+-------------+"
      ]
     },
     "metadata": {},
     "output_type": "display_data"
    },
    {
     "data": {
      "text/html": [
       "<pre>| Iter.   | Elapsed Time | Approx. Objective | Approx. Training RMSE | Step Size   |</pre>"
      ],
      "text/plain": [
       "| Iter.   | Elapsed Time | Approx. Objective | Approx. Training RMSE | Step Size   |"
      ]
     },
     "metadata": {},
     "output_type": "display_data"
    },
    {
     "data": {
      "text/html": [
       "<pre>+---------+--------------+-------------------+-----------------------+-------------+</pre>"
      ],
      "text/plain": [
       "+---------+--------------+-------------------+-----------------------+-------------+"
      ]
     },
     "metadata": {},
     "output_type": "display_data"
    },
    {
     "data": {
      "text/html": [
       "<pre>| Initial | 0us          | 2.21831           | 1.06367               |             |</pre>"
      ],
      "text/plain": [
       "| Initial | 0us          | 2.21831           | 1.06367               |             |"
      ]
     },
     "metadata": {},
     "output_type": "display_data"
    },
    {
     "data": {
      "text/html": [
       "<pre>+---------+--------------+-------------------+-----------------------+-------------+</pre>"
      ],
      "text/plain": [
       "+---------+--------------+-------------------+-----------------------+-------------+"
      ]
     },
     "metadata": {},
     "output_type": "display_data"
    },
    {
     "data": {
      "text/html": [
       "<pre>| 1       | 50.36s       | 1.29636           | 0.959331              | 0.0244141   |</pre>"
      ],
      "text/plain": [
       "| 1       | 50.36s       | 1.29636           | 0.959331              | 0.0244141   |"
      ]
     },
     "metadata": {},
     "output_type": "display_data"
    },
    {
     "data": {
      "text/html": [
       "<pre>| 2       | 1m 38s       | 1.15251           | 0.896629              | 0.0145167   |</pre>"
      ],
      "text/plain": [
       "| 2       | 1m 38s       | 1.15251           | 0.896629              | 0.0145167   |"
      ]
     },
     "metadata": {},
     "output_type": "display_data"
    },
    {
     "data": {
      "text/html": [
       "<pre>| 3       | 2m 35s       | 1.08374           | 0.866742              | 0.0107102   |</pre>"
      ],
      "text/plain": [
       "| 3       | 2m 35s       | 1.08374           | 0.866742              | 0.0107102   |"
      ]
     },
     "metadata": {},
     "output_type": "display_data"
    },
    {
     "data": {
      "text/html": [
       "<pre>| 4       | 3m 39s       | 1.04837           | 0.850909              | 0.00863167  |</pre>"
      ],
      "text/plain": [
       "| 4       | 3m 39s       | 1.04837           | 0.850909              | 0.00863167  |"
      ]
     },
     "metadata": {},
     "output_type": "display_data"
    },
    {
     "data": {
      "text/html": [
       "<pre>| 5       | 4m 44s       | 1.02628           | 0.840727              | 0.00730151  |</pre>"
      ],
      "text/plain": [
       "| 5       | 4m 44s       | 1.02628           | 0.840727              | 0.00730151  |"
      ]
     },
     "metadata": {},
     "output_type": "display_data"
    },
    {
     "data": {
      "text/html": [
       "<pre>| 6       | 5m 49s       | 1.01162           | 0.833826              | 0.00636835  |</pre>"
      ],
      "text/plain": [
       "| 6       | 5m 49s       | 1.01162           | 0.833826              | 0.00636835  |"
      ]
     },
     "metadata": {},
     "output_type": "display_data"
    },
    {
     "data": {
      "text/html": [
       "<pre>| 7       | 6m 53s       | 1.00062           | 0.82844               | 0.00567305  |</pre>"
      ],
      "text/plain": [
       "| 7       | 6m 53s       | 1.00062           | 0.82844               | 0.00567305  |"
      ]
     },
     "metadata": {},
     "output_type": "display_data"
    },
    {
     "data": {
      "text/html": [
       "<pre>| 8       | 7m 51s       | 0.992718          | 0.824517              | 0.00513242  |</pre>"
      ],
      "text/plain": [
       "| 8       | 7m 51s       | 0.992718          | 0.824517              | 0.00513242  |"
      ]
     },
     "metadata": {},
     "output_type": "display_data"
    },
    {
     "data": {
      "text/html": [
       "<pre>| 9       | 8m 39s       | 0.985819          | 0.821207              | 0.00469849  |</pre>"
      ],
      "text/plain": [
       "| 9       | 8m 39s       | 0.985819          | 0.821207              | 0.00469849  |"
      ]
     },
     "metadata": {},
     "output_type": "display_data"
    },
    {
     "data": {
      "text/html": [
       "<pre>| 10      | 9m 29s       | 0.980411          | 0.818641              | 0.0043415   |</pre>"
      ],
      "text/plain": [
       "| 10      | 9m 29s       | 0.980411          | 0.818641              | 0.0043415   |"
      ]
     },
     "metadata": {},
     "output_type": "display_data"
    },
    {
     "data": {
      "text/html": [
       "<pre>| 11      | 10m 16s      | 0.975664          | 0.816286              | 0.00404199  |</pre>"
      ],
      "text/plain": [
       "| 11      | 10m 16s      | 0.975664          | 0.816286              | 0.00404199  |"
      ]
     },
     "metadata": {},
     "output_type": "display_data"
    },
    {
     "data": {
      "text/html": [
       "<pre>| 12      | 11m 7s       | 0.971654          | 0.814144              | 0.00378664  |</pre>"
      ],
      "text/plain": [
       "| 12      | 11m 7s       | 0.971654          | 0.814144              | 0.00378664  |"
      ]
     },
     "metadata": {},
     "output_type": "display_data"
    },
    {
     "data": {
      "text/html": [
       "<pre>| 13      | 12m 3s       | 0.967984          | 0.812274              | 0.00356601  |</pre>"
      ],
      "text/plain": [
       "| 13      | 12m 3s       | 0.967984          | 0.812274              | 0.00356601  |"
      ]
     },
     "metadata": {},
     "output_type": "display_data"
    },
    {
     "data": {
      "text/html": [
       "<pre>| 14      | 12m 51s      | 0.964707          | 0.810776              | 0.00337322  |</pre>"
      ],
      "text/plain": [
       "| 14      | 12m 51s      | 0.964707          | 0.810776              | 0.00337322  |"
      ]
     },
     "metadata": {},
     "output_type": "display_data"
    },
    {
     "data": {
      "text/html": [
       "<pre>| 15      | 13m 39s      | 0.962058          | 0.809476              | 0.00320311  |</pre>"
      ],
      "text/plain": [
       "| 15      | 13m 39s      | 0.962058          | 0.809476              | 0.00320311  |"
      ]
     },
     "metadata": {},
     "output_type": "display_data"
    },
    {
     "data": {
      "text/html": [
       "<pre>| 16      | 14m 25s      | 0.959677          | 0.808134              | 0.00305176  |</pre>"
      ],
      "text/plain": [
       "| 16      | 14m 25s      | 0.959677          | 0.808134              | 0.00305176  |"
      ]
     },
     "metadata": {},
     "output_type": "display_data"
    },
    {
     "data": {
      "text/html": [
       "<pre>| 17      | 15m 18s      | 0.957464          | 0.807151              | 0.00291611  |</pre>"
      ],
      "text/plain": [
       "| 17      | 15m 18s      | 0.957464          | 0.807151              | 0.00291611  |"
      ]
     },
     "metadata": {},
     "output_type": "display_data"
    },
    {
     "data": {
      "text/html": [
       "<pre>| 18      | 16m 5s       | 0.955415          | 0.806173              | 0.00279374  |</pre>"
      ],
      "text/plain": [
       "| 18      | 16m 5s       | 0.955415          | 0.806173              | 0.00279374  |"
      ]
     },
     "metadata": {},
     "output_type": "display_data"
    },
    {
     "data": {
      "text/html": [
       "<pre>| 19      | 16m 55s      | 0.953603          | 0.805109              | 0.00268272  |</pre>"
      ],
      "text/plain": [
       "| 19      | 16m 55s      | 0.953603          | 0.805109              | 0.00268272  |"
      ]
     },
     "metadata": {},
     "output_type": "display_data"
    },
    {
     "data": {
      "text/html": [
       "<pre>| 20      | 17m 42s      | 0.952121          | 0.804377              | 0.00258147  |</pre>"
      ],
      "text/plain": [
       "| 20      | 17m 42s      | 0.952121          | 0.804377              | 0.00258147  |"
      ]
     },
     "metadata": {},
     "output_type": "display_data"
    },
    {
     "data": {
      "text/html": [
       "<pre>| 21      | 18m 30s      | 0.950238          | 0.803307              | 0.00248872  |</pre>"
      ],
      "text/plain": [
       "| 21      | 18m 30s      | 0.950238          | 0.803307              | 0.00248872  |"
      ]
     },
     "metadata": {},
     "output_type": "display_data"
    },
    {
     "data": {
      "text/html": [
       "<pre>| 22      | 19m 18s      | 0.948902          | 0.802742              | 0.00240338  |</pre>"
      ],
      "text/plain": [
       "| 22      | 19m 18s      | 0.948902          | 0.802742              | 0.00240338  |"
      ]
     },
     "metadata": {},
     "output_type": "display_data"
    },
    {
     "data": {
      "text/html": [
       "<pre>| 23      | 20m 5s       | 0.947488          | 0.802243              | 0.00232458  |</pre>"
      ],
      "text/plain": [
       "| 23      | 20m 5s       | 0.947488          | 0.802243              | 0.00232458  |"
      ]
     },
     "metadata": {},
     "output_type": "display_data"
    },
    {
     "data": {
      "text/html": [
       "<pre>| 24      | 20m 51s      | 0.946069          | 0.801394              | 0.00225155  |</pre>"
      ],
      "text/plain": [
       "| 24      | 20m 51s      | 0.946069          | 0.801394              | 0.00225155  |"
      ]
     },
     "metadata": {},
     "output_type": "display_data"
    },
    {
     "data": {
      "text/html": [
       "<pre>| 25      | 21m 42s      | 0.945079          | 0.800827              | 0.00218366  |</pre>"
      ],
      "text/plain": [
       "| 25      | 21m 42s      | 0.945079          | 0.800827              | 0.00218366  |"
      ]
     },
     "metadata": {},
     "output_type": "display_data"
    },
    {
     "data": {
      "text/html": [
       "<pre>+---------+--------------+-------------------+-----------------------+-------------+</pre>"
      ],
      "text/plain": [
       "+---------+--------------+-------------------+-----------------------+-------------+"
      ]
     },
     "metadata": {},
     "output_type": "display_data"
    },
    {
     "data": {
      "text/html": [
       "<pre>Optimization Complete: Maximum number of passes through the data reached.</pre>"
      ],
      "text/plain": [
       "Optimization Complete: Maximum number of passes through the data reached."
      ]
     },
     "metadata": {},
     "output_type": "display_data"
    },
    {
     "data": {
      "text/html": [
       "<pre>Computing final objective value and training RMSE.</pre>"
      ],
      "text/plain": [
       "Computing final objective value and training RMSE."
      ]
     },
     "metadata": {},
     "output_type": "display_data"
    },
    {
     "data": {
      "text/html": [
       "<pre>       Final objective value: 0.949443</pre>"
      ],
      "text/plain": [
       "       Final objective value: 0.949443"
      ]
     },
     "metadata": {},
     "output_type": "display_data"
    },
    {
     "data": {
      "text/html": [
       "<pre>       Final training RMSE: 0.787757</pre>"
      ],
      "text/plain": [
       "       Final training RMSE: 0.787757"
      ]
     },
     "metadata": {},
     "output_type": "display_data"
    },
    {
     "data": {
      "text/html": [
       "<pre>recommendations finished on 1000/478176 queries. users per second: 12802.6</pre>"
      ],
      "text/plain": [
       "recommendations finished on 1000/478176 queries. users per second: 12802.6"
      ]
     },
     "metadata": {},
     "output_type": "display_data"
    },
    {
     "data": {
      "text/html": [
       "<pre>recommendations finished on 2000/478176 queries. users per second: 15031.6</pre>"
      ],
      "text/plain": [
       "recommendations finished on 2000/478176 queries. users per second: 15031.6"
      ]
     },
     "metadata": {},
     "output_type": "display_data"
    },
    {
     "data": {
      "text/html": [
       "<pre>recommendations finished on 3000/478176 queries. users per second: 16208.3</pre>"
      ],
      "text/plain": [
       "recommendations finished on 3000/478176 queries. users per second: 16208.3"
      ]
     },
     "metadata": {},
     "output_type": "display_data"
    },
    {
     "data": {
      "text/html": [
       "<pre>recommendations finished on 4000/478176 queries. users per second: 17012.2</pre>"
      ],
      "text/plain": [
       "recommendations finished on 4000/478176 queries. users per second: 17012.2"
      ]
     },
     "metadata": {},
     "output_type": "display_data"
    },
    {
     "data": {
      "text/html": [
       "<pre>recommendations finished on 5000/478176 queries. users per second: 17847.1</pre>"
      ],
      "text/plain": [
       "recommendations finished on 5000/478176 queries. users per second: 17847.1"
      ]
     },
     "metadata": {},
     "output_type": "display_data"
    },
    {
     "data": {
      "text/html": [
       "<pre>recommendations finished on 6000/478176 queries. users per second: 18507.8</pre>"
      ],
      "text/plain": [
       "recommendations finished on 6000/478176 queries. users per second: 18507.8"
      ]
     },
     "metadata": {},
     "output_type": "display_data"
    },
    {
     "data": {
      "text/html": [
       "<pre>recommendations finished on 7000/478176 queries. users per second: 18907.6</pre>"
      ],
      "text/plain": [
       "recommendations finished on 7000/478176 queries. users per second: 18907.6"
      ]
     },
     "metadata": {},
     "output_type": "display_data"
    },
    {
     "data": {
      "text/html": [
       "<pre>recommendations finished on 8000/478176 queries. users per second: 19311.9</pre>"
      ],
      "text/plain": [
       "recommendations finished on 8000/478176 queries. users per second: 19311.9"
      ]
     },
     "metadata": {},
     "output_type": "display_data"
    },
    {
     "data": {
      "text/html": [
       "<pre>recommendations finished on 9000/478176 queries. users per second: 19638.5</pre>"
      ],
      "text/plain": [
       "recommendations finished on 9000/478176 queries. users per second: 19638.5"
      ]
     },
     "metadata": {},
     "output_type": "display_data"
    },
    {
     "data": {
      "text/html": [
       "<pre>recommendations finished on 10000/478176 queries. users per second: 19907.8</pre>"
      ],
      "text/plain": [
       "recommendations finished on 10000/478176 queries. users per second: 19907.8"
      ]
     },
     "metadata": {},
     "output_type": "display_data"
    },
    {
     "data": {
      "text/html": [
       "<pre>recommendations finished on 11000/478176 queries. users per second: 20170.7</pre>"
      ],
      "text/plain": [
       "recommendations finished on 11000/478176 queries. users per second: 20170.7"
      ]
     },
     "metadata": {},
     "output_type": "display_data"
    },
    {
     "data": {
      "text/html": [
       "<pre>recommendations finished on 12000/478176 queries. users per second: 20326</pre>"
      ],
      "text/plain": [
       "recommendations finished on 12000/478176 queries. users per second: 20326"
      ]
     },
     "metadata": {},
     "output_type": "display_data"
    },
    {
     "data": {
      "text/html": [
       "<pre>recommendations finished on 13000/478176 queries. users per second: 20459.2</pre>"
      ],
      "text/plain": [
       "recommendations finished on 13000/478176 queries. users per second: 20459.2"
      ]
     },
     "metadata": {},
     "output_type": "display_data"
    },
    {
     "data": {
      "text/html": [
       "<pre>recommendations finished on 14000/478176 queries. users per second: 20574.9</pre>"
      ],
      "text/plain": [
       "recommendations finished on 14000/478176 queries. users per second: 20574.9"
      ]
     },
     "metadata": {},
     "output_type": "display_data"
    },
    {
     "data": {
      "text/html": [
       "<pre>recommendations finished on 15000/478176 queries. users per second: 20704.7</pre>"
      ],
      "text/plain": [
       "recommendations finished on 15000/478176 queries. users per second: 20704.7"
      ]
     },
     "metadata": {},
     "output_type": "display_data"
    },
    {
     "data": {
      "text/html": [
       "<pre>recommendations finished on 16000/478176 queries. users per second: 20819.7</pre>"
      ],
      "text/plain": [
       "recommendations finished on 16000/478176 queries. users per second: 20819.7"
      ]
     },
     "metadata": {},
     "output_type": "display_data"
    },
    {
     "data": {
      "text/html": [
       "<pre>recommendations finished on 17000/478176 queries. users per second: 20870.8</pre>"
      ],
      "text/plain": [
       "recommendations finished on 17000/478176 queries. users per second: 20870.8"
      ]
     },
     "metadata": {},
     "output_type": "display_data"
    },
    {
     "data": {
      "text/html": [
       "<pre>recommendations finished on 18000/478176 queries. users per second: 20965.1</pre>"
      ],
      "text/plain": [
       "recommendations finished on 18000/478176 queries. users per second: 20965.1"
      ]
     },
     "metadata": {},
     "output_type": "display_data"
    },
    {
     "data": {
      "text/html": [
       "<pre>recommendations finished on 19000/478176 queries. users per second: 21073.7</pre>"
      ],
      "text/plain": [
       "recommendations finished on 19000/478176 queries. users per second: 21073.7"
      ]
     },
     "metadata": {},
     "output_type": "display_data"
    },
    {
     "data": {
      "text/html": [
       "<pre>recommendations finished on 20000/478176 queries. users per second: 21127.6</pre>"
      ],
      "text/plain": [
       "recommendations finished on 20000/478176 queries. users per second: 21127.6"
      ]
     },
     "metadata": {},
     "output_type": "display_data"
    },
    {
     "data": {
      "text/html": [
       "<pre>recommendations finished on 21000/478176 queries. users per second: 21176.6</pre>"
      ],
      "text/plain": [
       "recommendations finished on 21000/478176 queries. users per second: 21176.6"
      ]
     },
     "metadata": {},
     "output_type": "display_data"
    },
    {
     "data": {
      "text/html": [
       "<pre>recommendations finished on 22000/478176 queries. users per second: 21160</pre>"
      ],
      "text/plain": [
       "recommendations finished on 22000/478176 queries. users per second: 21160"
      ]
     },
     "metadata": {},
     "output_type": "display_data"
    },
    {
     "data": {
      "text/html": [
       "<pre>recommendations finished on 23000/478176 queries. users per second: 21262.3</pre>"
      ],
      "text/plain": [
       "recommendations finished on 23000/478176 queries. users per second: 21262.3"
      ]
     },
     "metadata": {},
     "output_type": "display_data"
    },
    {
     "data": {
      "text/html": [
       "<pre>recommendations finished on 24000/478176 queries. users per second: 21300</pre>"
      ],
      "text/plain": [
       "recommendations finished on 24000/478176 queries. users per second: 21300"
      ]
     },
     "metadata": {},
     "output_type": "display_data"
    },
    {
     "data": {
      "text/html": [
       "<pre>recommendations finished on 25000/478176 queries. users per second: 21389.7</pre>"
      ],
      "text/plain": [
       "recommendations finished on 25000/478176 queries. users per second: 21389.7"
      ]
     },
     "metadata": {},
     "output_type": "display_data"
    },
    {
     "data": {
      "text/html": [
       "<pre>recommendations finished on 26000/478176 queries. users per second: 21437.7</pre>"
      ],
      "text/plain": [
       "recommendations finished on 26000/478176 queries. users per second: 21437.7"
      ]
     },
     "metadata": {},
     "output_type": "display_data"
    },
    {
     "data": {
      "text/html": [
       "<pre>recommendations finished on 27000/478176 queries. users per second: 21499.4</pre>"
      ],
      "text/plain": [
       "recommendations finished on 27000/478176 queries. users per second: 21499.4"
      ]
     },
     "metadata": {},
     "output_type": "display_data"
    },
    {
     "data": {
      "text/html": [
       "<pre>recommendations finished on 28000/478176 queries. users per second: 21523.1</pre>"
      ],
      "text/plain": [
       "recommendations finished on 28000/478176 queries. users per second: 21523.1"
      ]
     },
     "metadata": {},
     "output_type": "display_data"
    },
    {
     "data": {
      "text/html": [
       "<pre>recommendations finished on 29000/478176 queries. users per second: 21588.4</pre>"
      ],
      "text/plain": [
       "recommendations finished on 29000/478176 queries. users per second: 21588.4"
      ]
     },
     "metadata": {},
     "output_type": "display_data"
    },
    {
     "data": {
      "text/html": [
       "<pre>recommendations finished on 30000/478176 queries. users per second: 21639.6</pre>"
      ],
      "text/plain": [
       "recommendations finished on 30000/478176 queries. users per second: 21639.6"
      ]
     },
     "metadata": {},
     "output_type": "display_data"
    },
    {
     "data": {
      "text/html": [
       "<pre>recommendations finished on 31000/478176 queries. users per second: 21687.8</pre>"
      ],
      "text/plain": [
       "recommendations finished on 31000/478176 queries. users per second: 21687.8"
      ]
     },
     "metadata": {},
     "output_type": "display_data"
    },
    {
     "data": {
      "text/html": [
       "<pre>recommendations finished on 32000/478176 queries. users per second: 21718.4</pre>"
      ],
      "text/plain": [
       "recommendations finished on 32000/478176 queries. users per second: 21718.4"
      ]
     },
     "metadata": {},
     "output_type": "display_data"
    },
    {
     "data": {
      "text/html": [
       "<pre>recommendations finished on 33000/478176 queries. users per second: 21775.9</pre>"
      ],
      "text/plain": [
       "recommendations finished on 33000/478176 queries. users per second: 21775.9"
      ]
     },
     "metadata": {},
     "output_type": "display_data"
    },
    {
     "data": {
      "text/html": [
       "<pre>recommendations finished on 34000/478176 queries. users per second: 21791.4</pre>"
      ],
      "text/plain": [
       "recommendations finished on 34000/478176 queries. users per second: 21791.4"
      ]
     },
     "metadata": {},
     "output_type": "display_data"
    },
    {
     "data": {
      "text/html": [
       "<pre>recommendations finished on 35000/478176 queries. users per second: 21816.7</pre>"
      ],
      "text/plain": [
       "recommendations finished on 35000/478176 queries. users per second: 21816.7"
      ]
     },
     "metadata": {},
     "output_type": "display_data"
    },
    {
     "data": {
      "text/html": [
       "<pre>recommendations finished on 36000/478176 queries. users per second: 21840.6</pre>"
      ],
      "text/plain": [
       "recommendations finished on 36000/478176 queries. users per second: 21840.6"
      ]
     },
     "metadata": {},
     "output_type": "display_data"
    },
    {
     "data": {
      "text/html": [
       "<pre>recommendations finished on 37000/478176 queries. users per second: 21876.2</pre>"
      ],
      "text/plain": [
       "recommendations finished on 37000/478176 queries. users per second: 21876.2"
      ]
     },
     "metadata": {},
     "output_type": "display_data"
    },
    {
     "data": {
      "text/html": [
       "<pre>recommendations finished on 38000/478176 queries. users per second: 21897.4</pre>"
      ],
      "text/plain": [
       "recommendations finished on 38000/478176 queries. users per second: 21897.4"
      ]
     },
     "metadata": {},
     "output_type": "display_data"
    },
    {
     "data": {
      "text/html": [
       "<pre>recommendations finished on 39000/478176 queries. users per second: 21917.5</pre>"
      ],
      "text/plain": [
       "recommendations finished on 39000/478176 queries. users per second: 21917.5"
      ]
     },
     "metadata": {},
     "output_type": "display_data"
    },
    {
     "data": {
      "text/html": [
       "<pre>recommendations finished on 40000/478176 queries. users per second: 21948.7</pre>"
      ],
      "text/plain": [
       "recommendations finished on 40000/478176 queries. users per second: 21948.7"
      ]
     },
     "metadata": {},
     "output_type": "display_data"
    },
    {
     "data": {
      "text/html": [
       "<pre>recommendations finished on 41000/478176 queries. users per second: 21990.3</pre>"
      ],
      "text/plain": [
       "recommendations finished on 41000/478176 queries. users per second: 21990.3"
      ]
     },
     "metadata": {},
     "output_type": "display_data"
    },
    {
     "data": {
      "text/html": [
       "<pre>recommendations finished on 42000/478176 queries. users per second: 22003.2</pre>"
      ],
      "text/plain": [
       "recommendations finished on 42000/478176 queries. users per second: 22003.2"
      ]
     },
     "metadata": {},
     "output_type": "display_data"
    },
    {
     "data": {
      "text/html": [
       "<pre>recommendations finished on 43000/478176 queries. users per second: 22030.5</pre>"
      ],
      "text/plain": [
       "recommendations finished on 43000/478176 queries. users per second: 22030.5"
      ]
     },
     "metadata": {},
     "output_type": "display_data"
    },
    {
     "data": {
      "text/html": [
       "<pre>recommendations finished on 44000/478176 queries. users per second: 21990.3</pre>"
      ],
      "text/plain": [
       "recommendations finished on 44000/478176 queries. users per second: 21990.3"
      ]
     },
     "metadata": {},
     "output_type": "display_data"
    },
    {
     "data": {
      "text/html": [
       "<pre>recommendations finished on 45000/478176 queries. users per second: 22016.6</pre>"
      ],
      "text/plain": [
       "recommendations finished on 45000/478176 queries. users per second: 22016.6"
      ]
     },
     "metadata": {},
     "output_type": "display_data"
    },
    {
     "data": {
      "text/html": [
       "<pre>recommendations finished on 46000/478176 queries. users per second: 22052.4</pre>"
      ],
      "text/plain": [
       "recommendations finished on 46000/478176 queries. users per second: 22052.4"
      ]
     },
     "metadata": {},
     "output_type": "display_data"
    },
    {
     "data": {
      "text/html": [
       "<pre>recommendations finished on 47000/478176 queries. users per second: 22076.4</pre>"
      ],
      "text/plain": [
       "recommendations finished on 47000/478176 queries. users per second: 22076.4"
      ]
     },
     "metadata": {},
     "output_type": "display_data"
    },
    {
     "data": {
      "text/html": [
       "<pre>recommendations finished on 48000/478176 queries. users per second: 22099.5</pre>"
      ],
      "text/plain": [
       "recommendations finished on 48000/478176 queries. users per second: 22099.5"
      ]
     },
     "metadata": {},
     "output_type": "display_data"
    },
    {
     "data": {
      "text/html": [
       "<pre>recommendations finished on 49000/478176 queries. users per second: 22111.6</pre>"
      ],
      "text/plain": [
       "recommendations finished on 49000/478176 queries. users per second: 22111.6"
      ]
     },
     "metadata": {},
     "output_type": "display_data"
    },
    {
     "data": {
      "text/html": [
       "<pre>recommendations finished on 50000/478176 queries. users per second: 22133.1</pre>"
      ],
      "text/plain": [
       "recommendations finished on 50000/478176 queries. users per second: 22133.1"
      ]
     },
     "metadata": {},
     "output_type": "display_data"
    },
    {
     "data": {
      "text/html": [
       "<pre>recommendations finished on 51000/478176 queries. users per second: 22153.8</pre>"
      ],
      "text/plain": [
       "recommendations finished on 51000/478176 queries. users per second: 22153.8"
      ]
     },
     "metadata": {},
     "output_type": "display_data"
    },
    {
     "data": {
      "text/html": [
       "<pre>recommendations finished on 52000/478176 queries. users per second: 22183.1</pre>"
      ],
      "text/plain": [
       "recommendations finished on 52000/478176 queries. users per second: 22183.1"
      ]
     },
     "metadata": {},
     "output_type": "display_data"
    },
    {
     "data": {
      "text/html": [
       "<pre>recommendations finished on 53000/478176 queries. users per second: 22192.9</pre>"
      ],
      "text/plain": [
       "recommendations finished on 53000/478176 queries. users per second: 22192.9"
      ]
     },
     "metadata": {},
     "output_type": "display_data"
    },
    {
     "data": {
      "text/html": [
       "<pre>recommendations finished on 54000/478176 queries. users per second: 22156.7</pre>"
      ],
      "text/plain": [
       "recommendations finished on 54000/478176 queries. users per second: 22156.7"
      ]
     },
     "metadata": {},
     "output_type": "display_data"
    },
    {
     "data": {
      "text/html": [
       "<pre>recommendations finished on 55000/478176 queries. users per second: 22139.4</pre>"
      ],
      "text/plain": [
       "recommendations finished on 55000/478176 queries. users per second: 22139.4"
      ]
     },
     "metadata": {},
     "output_type": "display_data"
    },
    {
     "data": {
      "text/html": [
       "<pre>recommendations finished on 56000/478176 queries. users per second: 22026.2</pre>"
      ],
      "text/plain": [
       "recommendations finished on 56000/478176 queries. users per second: 22026.2"
      ]
     },
     "metadata": {},
     "output_type": "display_data"
    },
    {
     "data": {
      "text/html": [
       "<pre>recommendations finished on 57000/478176 queries. users per second: 21969.9</pre>"
      ],
      "text/plain": [
       "recommendations finished on 57000/478176 queries. users per second: 21969.9"
      ]
     },
     "metadata": {},
     "output_type": "display_data"
    },
    {
     "data": {
      "text/html": [
       "<pre>recommendations finished on 58000/478176 queries. users per second: 21907.5</pre>"
      ],
      "text/plain": [
       "recommendations finished on 58000/478176 queries. users per second: 21907.5"
      ]
     },
     "metadata": {},
     "output_type": "display_data"
    },
    {
     "data": {
      "text/html": [
       "<pre>recommendations finished on 59000/478176 queries. users per second: 21801</pre>"
      ],
      "text/plain": [
       "recommendations finished on 59000/478176 queries. users per second: 21801"
      ]
     },
     "metadata": {},
     "output_type": "display_data"
    },
    {
     "data": {
      "text/html": [
       "<pre>recommendations finished on 60000/478176 queries. users per second: 21736.5</pre>"
      ],
      "text/plain": [
       "recommendations finished on 60000/478176 queries. users per second: 21736.5"
      ]
     },
     "metadata": {},
     "output_type": "display_data"
    },
    {
     "data": {
      "text/html": [
       "<pre>recommendations finished on 61000/478176 queries. users per second: 21666.7</pre>"
      ],
      "text/plain": [
       "recommendations finished on 61000/478176 queries. users per second: 21666.7"
      ]
     },
     "metadata": {},
     "output_type": "display_data"
    },
    {
     "data": {
      "text/html": [
       "<pre>recommendations finished on 62000/478176 queries. users per second: 21619.4</pre>"
      ],
      "text/plain": [
       "recommendations finished on 62000/478176 queries. users per second: 21619.4"
      ]
     },
     "metadata": {},
     "output_type": "display_data"
    },
    {
     "data": {
      "text/html": [
       "<pre>recommendations finished on 63000/478176 queries. users per second: 21597.7</pre>"
      ],
      "text/plain": [
       "recommendations finished on 63000/478176 queries. users per second: 21597.7"
      ]
     },
     "metadata": {},
     "output_type": "display_data"
    },
    {
     "data": {
      "text/html": [
       "<pre>recommendations finished on 64000/478176 queries. users per second: 21509.7</pre>"
      ],
      "text/plain": [
       "recommendations finished on 64000/478176 queries. users per second: 21509.7"
      ]
     },
     "metadata": {},
     "output_type": "display_data"
    },
    {
     "data": {
      "text/html": [
       "<pre>recommendations finished on 65000/478176 queries. users per second: 21427.5</pre>"
      ],
      "text/plain": [
       "recommendations finished on 65000/478176 queries. users per second: 21427.5"
      ]
     },
     "metadata": {},
     "output_type": "display_data"
    },
    {
     "data": {
      "text/html": [
       "<pre>recommendations finished on 66000/478176 queries. users per second: 21404.9</pre>"
      ],
      "text/plain": [
       "recommendations finished on 66000/478176 queries. users per second: 21404.9"
      ]
     },
     "metadata": {},
     "output_type": "display_data"
    },
    {
     "data": {
      "text/html": [
       "<pre>recommendations finished on 67000/478176 queries. users per second: 21376.9</pre>"
      ],
      "text/plain": [
       "recommendations finished on 67000/478176 queries. users per second: 21376.9"
      ]
     },
     "metadata": {},
     "output_type": "display_data"
    },
    {
     "data": {
      "text/html": [
       "<pre>recommendations finished on 68000/478176 queries. users per second: 21299.1</pre>"
      ],
      "text/plain": [
       "recommendations finished on 68000/478176 queries. users per second: 21299.1"
      ]
     },
     "metadata": {},
     "output_type": "display_data"
    },
    {
     "data": {
      "text/html": [
       "<pre>recommendations finished on 69000/478176 queries. users per second: 21252.6</pre>"
      ],
      "text/plain": [
       "recommendations finished on 69000/478176 queries. users per second: 21252.6"
      ]
     },
     "metadata": {},
     "output_type": "display_data"
    },
    {
     "data": {
      "text/html": [
       "<pre>recommendations finished on 70000/478176 queries. users per second: 21209.2</pre>"
      ],
      "text/plain": [
       "recommendations finished on 70000/478176 queries. users per second: 21209.2"
      ]
     },
     "metadata": {},
     "output_type": "display_data"
    },
    {
     "data": {
      "text/html": [
       "<pre>recommendations finished on 71000/478176 queries. users per second: 21190.7</pre>"
      ],
      "text/plain": [
       "recommendations finished on 71000/478176 queries. users per second: 21190.7"
      ]
     },
     "metadata": {},
     "output_type": "display_data"
    },
    {
     "data": {
      "text/html": [
       "<pre>recommendations finished on 72000/478176 queries. users per second: 21127.8</pre>"
      ],
      "text/plain": [
       "recommendations finished on 72000/478176 queries. users per second: 21127.8"
      ]
     },
     "metadata": {},
     "output_type": "display_data"
    },
    {
     "data": {
      "text/html": [
       "<pre>recommendations finished on 73000/478176 queries. users per second: 21068.6</pre>"
      ],
      "text/plain": [
       "recommendations finished on 73000/478176 queries. users per second: 21068.6"
      ]
     },
     "metadata": {},
     "output_type": "display_data"
    },
    {
     "data": {
      "text/html": [
       "<pre>recommendations finished on 74000/478176 queries. users per second: 21043.3</pre>"
      ],
      "text/plain": [
       "recommendations finished on 74000/478176 queries. users per second: 21043.3"
      ]
     },
     "metadata": {},
     "output_type": "display_data"
    },
    {
     "data": {
      "text/html": [
       "<pre>recommendations finished on 75000/478176 queries. users per second: 21002.3</pre>"
      ],
      "text/plain": [
       "recommendations finished on 75000/478176 queries. users per second: 21002.3"
      ]
     },
     "metadata": {},
     "output_type": "display_data"
    },
    {
     "data": {
      "text/html": [
       "<pre>recommendations finished on 76000/478176 queries. users per second: 20970.9</pre>"
      ],
      "text/plain": [
       "recommendations finished on 76000/478176 queries. users per second: 20970.9"
      ]
     },
     "metadata": {},
     "output_type": "display_data"
    },
    {
     "data": {
      "text/html": [
       "<pre>recommendations finished on 77000/478176 queries. users per second: 20929</pre>"
      ],
      "text/plain": [
       "recommendations finished on 77000/478176 queries. users per second: 20929"
      ]
     },
     "metadata": {},
     "output_type": "display_data"
    },
    {
     "data": {
      "text/html": [
       "<pre>recommendations finished on 78000/478176 queries. users per second: 20909.4</pre>"
      ],
      "text/plain": [
       "recommendations finished on 78000/478176 queries. users per second: 20909.4"
      ]
     },
     "metadata": {},
     "output_type": "display_data"
    },
    {
     "data": {
      "text/html": [
       "<pre>recommendations finished on 79000/478176 queries. users per second: 20880</pre>"
      ],
      "text/plain": [
       "recommendations finished on 79000/478176 queries. users per second: 20880"
      ]
     },
     "metadata": {},
     "output_type": "display_data"
    },
    {
     "data": {
      "text/html": [
       "<pre>recommendations finished on 80000/478176 queries. users per second: 20868.1</pre>"
      ],
      "text/plain": [
       "recommendations finished on 80000/478176 queries. users per second: 20868.1"
      ]
     },
     "metadata": {},
     "output_type": "display_data"
    },
    {
     "data": {
      "text/html": [
       "<pre>recommendations finished on 81000/478176 queries. users per second: 20860.3</pre>"
      ],
      "text/plain": [
       "recommendations finished on 81000/478176 queries. users per second: 20860.3"
      ]
     },
     "metadata": {},
     "output_type": "display_data"
    },
    {
     "data": {
      "text/html": [
       "<pre>recommendations finished on 82000/478176 queries. users per second: 20809.1</pre>"
      ],
      "text/plain": [
       "recommendations finished on 82000/478176 queries. users per second: 20809.1"
      ]
     },
     "metadata": {},
     "output_type": "display_data"
    },
    {
     "data": {
      "text/html": [
       "<pre>recommendations finished on 83000/478176 queries. users per second: 20777.9</pre>"
      ],
      "text/plain": [
       "recommendations finished on 83000/478176 queries. users per second: 20777.9"
      ]
     },
     "metadata": {},
     "output_type": "display_data"
    },
    {
     "data": {
      "text/html": [
       "<pre>recommendations finished on 84000/478176 queries. users per second: 20742.2</pre>"
      ],
      "text/plain": [
       "recommendations finished on 84000/478176 queries. users per second: 20742.2"
      ]
     },
     "metadata": {},
     "output_type": "display_data"
    },
    {
     "data": {
      "text/html": [
       "<pre>recommendations finished on 85000/478176 queries. users per second: 20733.3</pre>"
      ],
      "text/plain": [
       "recommendations finished on 85000/478176 queries. users per second: 20733.3"
      ]
     },
     "metadata": {},
     "output_type": "display_data"
    },
    {
     "data": {
      "text/html": [
       "<pre>recommendations finished on 86000/478176 queries. users per second: 20690.3</pre>"
      ],
      "text/plain": [
       "recommendations finished on 86000/478176 queries. users per second: 20690.3"
      ]
     },
     "metadata": {},
     "output_type": "display_data"
    },
    {
     "data": {
      "text/html": [
       "<pre>recommendations finished on 87000/478176 queries. users per second: 20667.2</pre>"
      ],
      "text/plain": [
       "recommendations finished on 87000/478176 queries. users per second: 20667.2"
      ]
     },
     "metadata": {},
     "output_type": "display_data"
    },
    {
     "data": {
      "text/html": [
       "<pre>recommendations finished on 88000/478176 queries. users per second: 20644.6</pre>"
      ],
      "text/plain": [
       "recommendations finished on 88000/478176 queries. users per second: 20644.6"
      ]
     },
     "metadata": {},
     "output_type": "display_data"
    },
    {
     "data": {
      "text/html": [
       "<pre>recommendations finished on 89000/478176 queries. users per second: 20631</pre>"
      ],
      "text/plain": [
       "recommendations finished on 89000/478176 queries. users per second: 20631"
      ]
     },
     "metadata": {},
     "output_type": "display_data"
    },
    {
     "data": {
      "text/html": [
       "<pre>recommendations finished on 90000/478176 queries. users per second: 20614.1</pre>"
      ],
      "text/plain": [
       "recommendations finished on 90000/478176 queries. users per second: 20614.1"
      ]
     },
     "metadata": {},
     "output_type": "display_data"
    },
    {
     "data": {
      "text/html": [
       "<pre>recommendations finished on 91000/478176 queries. users per second: 20599.9</pre>"
      ],
      "text/plain": [
       "recommendations finished on 91000/478176 queries. users per second: 20599.9"
      ]
     },
     "metadata": {},
     "output_type": "display_data"
    },
    {
     "data": {
      "text/html": [
       "<pre>recommendations finished on 92000/478176 queries. users per second: 20583.8</pre>"
      ],
      "text/plain": [
       "recommendations finished on 92000/478176 queries. users per second: 20583.8"
      ]
     },
     "metadata": {},
     "output_type": "display_data"
    },
    {
     "data": {
      "text/html": [
       "<pre>recommendations finished on 93000/478176 queries. users per second: 20590.5</pre>"
      ],
      "text/plain": [
       "recommendations finished on 93000/478176 queries. users per second: 20590.5"
      ]
     },
     "metadata": {},
     "output_type": "display_data"
    },
    {
     "data": {
      "text/html": [
       "<pre>recommendations finished on 94000/478176 queries. users per second: 20545.8</pre>"
      ],
      "text/plain": [
       "recommendations finished on 94000/478176 queries. users per second: 20545.8"
      ]
     },
     "metadata": {},
     "output_type": "display_data"
    },
    {
     "data": {
      "text/html": [
       "<pre>recommendations finished on 95000/478176 queries. users per second: 20530.8</pre>"
      ],
      "text/plain": [
       "recommendations finished on 95000/478176 queries. users per second: 20530.8"
      ]
     },
     "metadata": {},
     "output_type": "display_data"
    },
    {
     "data": {
      "text/html": [
       "<pre>recommendations finished on 96000/478176 queries. users per second: 20516.2</pre>"
      ],
      "text/plain": [
       "recommendations finished on 96000/478176 queries. users per second: 20516.2"
      ]
     },
     "metadata": {},
     "output_type": "display_data"
    },
    {
     "data": {
      "text/html": [
       "<pre>recommendations finished on 97000/478176 queries. users per second: 20497.1</pre>"
      ],
      "text/plain": [
       "recommendations finished on 97000/478176 queries. users per second: 20497.1"
      ]
     },
     "metadata": {},
     "output_type": "display_data"
    },
    {
     "data": {
      "text/html": [
       "<pre>recommendations finished on 98000/478176 queries. users per second: 20489.9</pre>"
      ],
      "text/plain": [
       "recommendations finished on 98000/478176 queries. users per second: 20489.9"
      ]
     },
     "metadata": {},
     "output_type": "display_data"
    },
    {
     "data": {
      "text/html": [
       "<pre>recommendations finished on 99000/478176 queries. users per second: 20483.2</pre>"
      ],
      "text/plain": [
       "recommendations finished on 99000/478176 queries. users per second: 20483.2"
      ]
     },
     "metadata": {},
     "output_type": "display_data"
    },
    {
     "data": {
      "text/html": [
       "<pre>recommendations finished on 100000/478176 queries. users per second: 20480.2</pre>"
      ],
      "text/plain": [
       "recommendations finished on 100000/478176 queries. users per second: 20480.2"
      ]
     },
     "metadata": {},
     "output_type": "display_data"
    },
    {
     "data": {
      "text/html": [
       "<pre>recommendations finished on 101000/478176 queries. users per second: 20440.3</pre>"
      ],
      "text/plain": [
       "recommendations finished on 101000/478176 queries. users per second: 20440.3"
      ]
     },
     "metadata": {},
     "output_type": "display_data"
    },
    {
     "data": {
      "text/html": [
       "<pre>recommendations finished on 102000/478176 queries. users per second: 20407.1</pre>"
      ],
      "text/plain": [
       "recommendations finished on 102000/478176 queries. users per second: 20407.1"
      ]
     },
     "metadata": {},
     "output_type": "display_data"
    },
    {
     "data": {
      "text/html": [
       "<pre>recommendations finished on 103000/478176 queries. users per second: 20369.5</pre>"
      ],
      "text/plain": [
       "recommendations finished on 103000/478176 queries. users per second: 20369.5"
      ]
     },
     "metadata": {},
     "output_type": "display_data"
    },
    {
     "data": {
      "text/html": [
       "<pre>recommendations finished on 104000/478176 queries. users per second: 20357.7</pre>"
      ],
      "text/plain": [
       "recommendations finished on 104000/478176 queries. users per second: 20357.7"
      ]
     },
     "metadata": {},
     "output_type": "display_data"
    },
    {
     "data": {
      "text/html": [
       "<pre>recommendations finished on 105000/478176 queries. users per second: 20342.3</pre>"
      ],
      "text/plain": [
       "recommendations finished on 105000/478176 queries. users per second: 20342.3"
      ]
     },
     "metadata": {},
     "output_type": "display_data"
    },
    {
     "data": {
      "text/html": [
       "<pre>recommendations finished on 106000/478176 queries. users per second: 20334.6</pre>"
      ],
      "text/plain": [
       "recommendations finished on 106000/478176 queries. users per second: 20334.6"
      ]
     },
     "metadata": {},
     "output_type": "display_data"
    },
    {
     "data": {
      "text/html": [
       "<pre>recommendations finished on 107000/478176 queries. users per second: 20327.4</pre>"
      ],
      "text/plain": [
       "recommendations finished on 107000/478176 queries. users per second: 20327.4"
      ]
     },
     "metadata": {},
     "output_type": "display_data"
    },
    {
     "data": {
      "text/html": [
       "<pre>recommendations finished on 108000/478176 queries. users per second: 20312.7</pre>"
      ],
      "text/plain": [
       "recommendations finished on 108000/478176 queries. users per second: 20312.7"
      ]
     },
     "metadata": {},
     "output_type": "display_data"
    },
    {
     "data": {
      "text/html": [
       "<pre>recommendations finished on 109000/478176 queries. users per second: 20294.5</pre>"
      ],
      "text/plain": [
       "recommendations finished on 109000/478176 queries. users per second: 20294.5"
      ]
     },
     "metadata": {},
     "output_type": "display_data"
    },
    {
     "data": {
      "text/html": [
       "<pre>recommendations finished on 110000/478176 queries. users per second: 20276.7</pre>"
      ],
      "text/plain": [
       "recommendations finished on 110000/478176 queries. users per second: 20276.7"
      ]
     },
     "metadata": {},
     "output_type": "display_data"
    },
    {
     "data": {
      "text/html": [
       "<pre>recommendations finished on 111000/478176 queries. users per second: 20266.6</pre>"
      ],
      "text/plain": [
       "recommendations finished on 111000/478176 queries. users per second: 20266.6"
      ]
     },
     "metadata": {},
     "output_type": "display_data"
    },
    {
     "data": {
      "text/html": [
       "<pre>recommendations finished on 112000/478176 queries. users per second: 20253.1</pre>"
      ],
      "text/plain": [
       "recommendations finished on 112000/478176 queries. users per second: 20253.1"
      ]
     },
     "metadata": {},
     "output_type": "display_data"
    },
    {
     "data": {
      "text/html": [
       "<pre>recommendations finished on 113000/478176 queries. users per second: 20243.4</pre>"
      ],
      "text/plain": [
       "recommendations finished on 113000/478176 queries. users per second: 20243.4"
      ]
     },
     "metadata": {},
     "output_type": "display_data"
    },
    {
     "data": {
      "text/html": [
       "<pre>recommendations finished on 114000/478176 queries. users per second: 20233.9</pre>"
      ],
      "text/plain": [
       "recommendations finished on 114000/478176 queries. users per second: 20233.9"
      ]
     },
     "metadata": {},
     "output_type": "display_data"
    },
    {
     "data": {
      "text/html": [
       "<pre>recommendations finished on 115000/478176 queries. users per second: 20235</pre>"
      ],
      "text/plain": [
       "recommendations finished on 115000/478176 queries. users per second: 20235"
      ]
     },
     "metadata": {},
     "output_type": "display_data"
    },
    {
     "data": {
      "text/html": [
       "<pre>recommendations finished on 116000/478176 queries. users per second: 20236.8</pre>"
      ],
      "text/plain": [
       "recommendations finished on 116000/478176 queries. users per second: 20236.8"
      ]
     },
     "metadata": {},
     "output_type": "display_data"
    },
    {
     "data": {
      "text/html": [
       "<pre>recommendations finished on 117000/478176 queries. users per second: 20214.5</pre>"
      ],
      "text/plain": [
       "recommendations finished on 117000/478176 queries. users per second: 20214.5"
      ]
     },
     "metadata": {},
     "output_type": "display_data"
    },
    {
     "data": {
      "text/html": [
       "<pre>recommendations finished on 118000/478176 queries. users per second: 20209.1</pre>"
      ],
      "text/plain": [
       "recommendations finished on 118000/478176 queries. users per second: 20209.1"
      ]
     },
     "metadata": {},
     "output_type": "display_data"
    },
    {
     "data": {
      "text/html": [
       "<pre>recommendations finished on 119000/478176 queries. users per second: 20196.9</pre>"
      ],
      "text/plain": [
       "recommendations finished on 119000/478176 queries. users per second: 20196.9"
      ]
     },
     "metadata": {},
     "output_type": "display_data"
    },
    {
     "data": {
      "text/html": [
       "<pre>recommendations finished on 120000/478176 queries. users per second: 20184.9</pre>"
      ],
      "text/plain": [
       "recommendations finished on 120000/478176 queries. users per second: 20184.9"
      ]
     },
     "metadata": {},
     "output_type": "display_data"
    },
    {
     "data": {
      "text/html": [
       "<pre>recommendations finished on 121000/478176 queries. users per second: 20162.7</pre>"
      ],
      "text/plain": [
       "recommendations finished on 121000/478176 queries. users per second: 20162.7"
      ]
     },
     "metadata": {},
     "output_type": "display_data"
    },
    {
     "data": {
      "text/html": [
       "<pre>recommendations finished on 122000/478176 queries. users per second: 20167.7</pre>"
      ],
      "text/plain": [
       "recommendations finished on 122000/478176 queries. users per second: 20167.7"
      ]
     },
     "metadata": {},
     "output_type": "display_data"
    },
    {
     "data": {
      "text/html": [
       "<pre>recommendations finished on 123000/478176 queries. users per second: 20136.9</pre>"
      ],
      "text/plain": [
       "recommendations finished on 123000/478176 queries. users per second: 20136.9"
      ]
     },
     "metadata": {},
     "output_type": "display_data"
    },
    {
     "data": {
      "text/html": [
       "<pre>recommendations finished on 124000/478176 queries. users per second: 20125.8</pre>"
      ],
      "text/plain": [
       "recommendations finished on 124000/478176 queries. users per second: 20125.8"
      ]
     },
     "metadata": {},
     "output_type": "display_data"
    },
    {
     "data": {
      "text/html": [
       "<pre>recommendations finished on 125000/478176 queries. users per second: 20118.2</pre>"
      ],
      "text/plain": [
       "recommendations finished on 125000/478176 queries. users per second: 20118.2"
      ]
     },
     "metadata": {},
     "output_type": "display_data"
    },
    {
     "data": {
      "text/html": [
       "<pre>recommendations finished on 126000/478176 queries. users per second: 20112.1</pre>"
      ],
      "text/plain": [
       "recommendations finished on 126000/478176 queries. users per second: 20112.1"
      ]
     },
     "metadata": {},
     "output_type": "display_data"
    },
    {
     "data": {
      "text/html": [
       "<pre>recommendations finished on 127000/478176 queries. users per second: 20106.1</pre>"
      ],
      "text/plain": [
       "recommendations finished on 127000/478176 queries. users per second: 20106.1"
      ]
     },
     "metadata": {},
     "output_type": "display_data"
    },
    {
     "data": {
      "text/html": [
       "<pre>recommendations finished on 128000/478176 queries. users per second: 20089.1</pre>"
      ],
      "text/plain": [
       "recommendations finished on 128000/478176 queries. users per second: 20089.1"
      ]
     },
     "metadata": {},
     "output_type": "display_data"
    },
    {
     "data": {
      "text/html": [
       "<pre>recommendations finished on 129000/478176 queries. users per second: 20085.1</pre>"
      ],
      "text/plain": [
       "recommendations finished on 129000/478176 queries. users per second: 20085.1"
      ]
     },
     "metadata": {},
     "output_type": "display_data"
    },
    {
     "data": {
      "text/html": [
       "<pre>recommendations finished on 130000/478176 queries. users per second: 20075.1</pre>"
      ],
      "text/plain": [
       "recommendations finished on 130000/478176 queries. users per second: 20075.1"
      ]
     },
     "metadata": {},
     "output_type": "display_data"
    },
    {
     "data": {
      "text/html": [
       "<pre>recommendations finished on 131000/478176 queries. users per second: 20068.2</pre>"
      ],
      "text/plain": [
       "recommendations finished on 131000/478176 queries. users per second: 20068.2"
      ]
     },
     "metadata": {},
     "output_type": "display_data"
    },
    {
     "data": {
      "text/html": [
       "<pre>recommendations finished on 132000/478176 queries. users per second: 20055.3</pre>"
      ],
      "text/plain": [
       "recommendations finished on 132000/478176 queries. users per second: 20055.3"
      ]
     },
     "metadata": {},
     "output_type": "display_data"
    },
    {
     "data": {
      "text/html": [
       "<pre>recommendations finished on 133000/478176 queries. users per second: 20055.2</pre>"
      ],
      "text/plain": [
       "recommendations finished on 133000/478176 queries. users per second: 20055.2"
      ]
     },
     "metadata": {},
     "output_type": "display_data"
    },
    {
     "data": {
      "text/html": [
       "<pre>recommendations finished on 134000/478176 queries. users per second: 20054.3</pre>"
      ],
      "text/plain": [
       "recommendations finished on 134000/478176 queries. users per second: 20054.3"
      ]
     },
     "metadata": {},
     "output_type": "display_data"
    },
    {
     "data": {
      "text/html": [
       "<pre>recommendations finished on 135000/478176 queries. users per second: 20026.9</pre>"
      ],
      "text/plain": [
       "recommendations finished on 135000/478176 queries. users per second: 20026.9"
      ]
     },
     "metadata": {},
     "output_type": "display_data"
    },
    {
     "data": {
      "text/html": [
       "<pre>recommendations finished on 136000/478176 queries. users per second: 20014.8</pre>"
      ],
      "text/plain": [
       "recommendations finished on 136000/478176 queries. users per second: 20014.8"
      ]
     },
     "metadata": {},
     "output_type": "display_data"
    },
    {
     "data": {
      "text/html": [
       "<pre>recommendations finished on 137000/478176 queries. users per second: 20007.6</pre>"
      ],
      "text/plain": [
       "recommendations finished on 137000/478176 queries. users per second: 20007.6"
      ]
     },
     "metadata": {},
     "output_type": "display_data"
    },
    {
     "data": {
      "text/html": [
       "<pre>recommendations finished on 138000/478176 queries. users per second: 20005</pre>"
      ],
      "text/plain": [
       "recommendations finished on 138000/478176 queries. users per second: 20005"
      ]
     },
     "metadata": {},
     "output_type": "display_data"
    },
    {
     "data": {
      "text/html": [
       "<pre>recommendations finished on 139000/478176 queries. users per second: 19988.4</pre>"
      ],
      "text/plain": [
       "recommendations finished on 139000/478176 queries. users per second: 19988.4"
      ]
     },
     "metadata": {},
     "output_type": "display_data"
    },
    {
     "data": {
      "text/html": [
       "<pre>recommendations finished on 140000/478176 queries. users per second: 19962.7</pre>"
      ],
      "text/plain": [
       "recommendations finished on 140000/478176 queries. users per second: 19962.7"
      ]
     },
     "metadata": {},
     "output_type": "display_data"
    },
    {
     "data": {
      "text/html": [
       "<pre>recommendations finished on 141000/478176 queries. users per second: 19956.9</pre>"
      ],
      "text/plain": [
       "recommendations finished on 141000/478176 queries. users per second: 19956.9"
      ]
     },
     "metadata": {},
     "output_type": "display_data"
    },
    {
     "data": {
      "text/html": [
       "<pre>recommendations finished on 142000/478176 queries. users per second: 19958.4</pre>"
      ],
      "text/plain": [
       "recommendations finished on 142000/478176 queries. users per second: 19958.4"
      ]
     },
     "metadata": {},
     "output_type": "display_data"
    },
    {
     "data": {
      "text/html": [
       "<pre>recommendations finished on 143000/478176 queries. users per second: 19938.5</pre>"
      ],
      "text/plain": [
       "recommendations finished on 143000/478176 queries. users per second: 19938.5"
      ]
     },
     "metadata": {},
     "output_type": "display_data"
    },
    {
     "data": {
      "text/html": [
       "<pre>recommendations finished on 144000/478176 queries. users per second: 19927.8</pre>"
      ],
      "text/plain": [
       "recommendations finished on 144000/478176 queries. users per second: 19927.8"
      ]
     },
     "metadata": {},
     "output_type": "display_data"
    },
    {
     "data": {
      "text/html": [
       "<pre>recommendations finished on 145000/478176 queries. users per second: 19919.9</pre>"
      ],
      "text/plain": [
       "recommendations finished on 145000/478176 queries. users per second: 19919.9"
      ]
     },
     "metadata": {},
     "output_type": "display_data"
    },
    {
     "data": {
      "text/html": [
       "<pre>recommendations finished on 146000/478176 queries. users per second: 19914.6</pre>"
      ],
      "text/plain": [
       "recommendations finished on 146000/478176 queries. users per second: 19914.6"
      ]
     },
     "metadata": {},
     "output_type": "display_data"
    },
    {
     "data": {
      "text/html": [
       "<pre>recommendations finished on 147000/478176 queries. users per second: 19913.3</pre>"
      ],
      "text/plain": [
       "recommendations finished on 147000/478176 queries. users per second: 19913.3"
      ]
     },
     "metadata": {},
     "output_type": "display_data"
    },
    {
     "data": {
      "text/html": [
       "<pre>recommendations finished on 148000/478176 queries. users per second: 19889.8</pre>"
      ],
      "text/plain": [
       "recommendations finished on 148000/478176 queries. users per second: 19889.8"
      ]
     },
     "metadata": {},
     "output_type": "display_data"
    },
    {
     "data": {
      "text/html": [
       "<pre>recommendations finished on 149000/478176 queries. users per second: 19882.5</pre>"
      ],
      "text/plain": [
       "recommendations finished on 149000/478176 queries. users per second: 19882.5"
      ]
     },
     "metadata": {},
     "output_type": "display_data"
    },
    {
     "data": {
      "text/html": [
       "<pre>recommendations finished on 150000/478176 queries. users per second: 19875.3</pre>"
      ],
      "text/plain": [
       "recommendations finished on 150000/478176 queries. users per second: 19875.3"
      ]
     },
     "metadata": {},
     "output_type": "display_data"
    },
    {
     "data": {
      "text/html": [
       "<pre>recommendations finished on 151000/478176 queries. users per second: 19874</pre>"
      ],
      "text/plain": [
       "recommendations finished on 151000/478176 queries. users per second: 19874"
      ]
     },
     "metadata": {},
     "output_type": "display_data"
    },
    {
     "data": {
      "text/html": [
       "<pre>recommendations finished on 152000/478176 queries. users per second: 19874.3</pre>"
      ],
      "text/plain": [
       "recommendations finished on 152000/478176 queries. users per second: 19874.3"
      ]
     },
     "metadata": {},
     "output_type": "display_data"
    },
    {
     "data": {
      "text/html": [
       "<pre>recommendations finished on 153000/478176 queries. users per second: 19861</pre>"
      ],
      "text/plain": [
       "recommendations finished on 153000/478176 queries. users per second: 19861"
      ]
     },
     "metadata": {},
     "output_type": "display_data"
    },
    {
     "data": {
      "text/html": [
       "<pre>recommendations finished on 154000/478176 queries. users per second: 19859.2</pre>"
      ],
      "text/plain": [
       "recommendations finished on 154000/478176 queries. users per second: 19859.2"
      ]
     },
     "metadata": {},
     "output_type": "display_data"
    },
    {
     "data": {
      "text/html": [
       "<pre>recommendations finished on 155000/478176 queries. users per second: 19852.4</pre>"
      ],
      "text/plain": [
       "recommendations finished on 155000/478176 queries. users per second: 19852.4"
      ]
     },
     "metadata": {},
     "output_type": "display_data"
    },
    {
     "data": {
      "text/html": [
       "<pre>recommendations finished on 156000/478176 queries. users per second: 19845.7</pre>"
      ],
      "text/plain": [
       "recommendations finished on 156000/478176 queries. users per second: 19845.7"
      ]
     },
     "metadata": {},
     "output_type": "display_data"
    },
    {
     "data": {
      "text/html": [
       "<pre>recommendations finished on 157000/478176 queries. users per second: 19840.4</pre>"
      ],
      "text/plain": [
       "recommendations finished on 157000/478176 queries. users per second: 19840.4"
      ]
     },
     "metadata": {},
     "output_type": "display_data"
    },
    {
     "data": {
      "text/html": [
       "<pre>recommendations finished on 158000/478176 queries. users per second: 19838.7</pre>"
      ],
      "text/plain": [
       "recommendations finished on 158000/478176 queries. users per second: 19838.7"
      ]
     },
     "metadata": {},
     "output_type": "display_data"
    },
    {
     "data": {
      "text/html": [
       "<pre>recommendations finished on 159000/478176 queries. users per second: 19838.3</pre>"
      ],
      "text/plain": [
       "recommendations finished on 159000/478176 queries. users per second: 19838.3"
      ]
     },
     "metadata": {},
     "output_type": "display_data"
    },
    {
     "data": {
      "text/html": [
       "<pre>recommendations finished on 160000/478176 queries. users per second: 19813.6</pre>"
      ],
      "text/plain": [
       "recommendations finished on 160000/478176 queries. users per second: 19813.6"
      ]
     },
     "metadata": {},
     "output_type": "display_data"
    },
    {
     "data": {
      "text/html": [
       "<pre>recommendations finished on 161000/478176 queries. users per second: 19804.9</pre>"
      ],
      "text/plain": [
       "recommendations finished on 161000/478176 queries. users per second: 19804.9"
      ]
     },
     "metadata": {},
     "output_type": "display_data"
    },
    {
     "data": {
      "text/html": [
       "<pre>recommendations finished on 162000/478176 queries. users per second: 19800.9</pre>"
      ],
      "text/plain": [
       "recommendations finished on 162000/478176 queries. users per second: 19800.9"
      ]
     },
     "metadata": {},
     "output_type": "display_data"
    },
    {
     "data": {
      "text/html": [
       "<pre>recommendations finished on 163000/478176 queries. users per second: 19786.7</pre>"
      ],
      "text/plain": [
       "recommendations finished on 163000/478176 queries. users per second: 19786.7"
      ]
     },
     "metadata": {},
     "output_type": "display_data"
    },
    {
     "data": {
      "text/html": [
       "<pre>recommendations finished on 164000/478176 queries. users per second: 19785.5</pre>"
      ],
      "text/plain": [
       "recommendations finished on 164000/478176 queries. users per second: 19785.5"
      ]
     },
     "metadata": {},
     "output_type": "display_data"
    },
    {
     "data": {
      "text/html": [
       "<pre>recommendations finished on 165000/478176 queries. users per second: 19782</pre>"
      ],
      "text/plain": [
       "recommendations finished on 165000/478176 queries. users per second: 19782"
      ]
     },
     "metadata": {},
     "output_type": "display_data"
    },
    {
     "data": {
      "text/html": [
       "<pre>recommendations finished on 166000/478176 queries. users per second: 19780.8</pre>"
      ],
      "text/plain": [
       "recommendations finished on 166000/478176 queries. users per second: 19780.8"
      ]
     },
     "metadata": {},
     "output_type": "display_data"
    },
    {
     "data": {
      "text/html": [
       "<pre>recommendations finished on 167000/478176 queries. users per second: 19775</pre>"
      ],
      "text/plain": [
       "recommendations finished on 167000/478176 queries. users per second: 19775"
      ]
     },
     "metadata": {},
     "output_type": "display_data"
    },
    {
     "data": {
      "text/html": [
       "<pre>recommendations finished on 168000/478176 queries. users per second: 19773.9</pre>"
      ],
      "text/plain": [
       "recommendations finished on 168000/478176 queries. users per second: 19773.9"
      ]
     },
     "metadata": {},
     "output_type": "display_data"
    },
    {
     "data": {
      "text/html": [
       "<pre>recommendations finished on 169000/478176 queries. users per second: 19771.5</pre>"
      ],
      "text/plain": [
       "recommendations finished on 169000/478176 queries. users per second: 19771.5"
      ]
     },
     "metadata": {},
     "output_type": "display_data"
    },
    {
     "data": {
      "text/html": [
       "<pre>recommendations finished on 170000/478176 queries. users per second: 19767.6</pre>"
      ],
      "text/plain": [
       "recommendations finished on 170000/478176 queries. users per second: 19767.6"
      ]
     },
     "metadata": {},
     "output_type": "display_data"
    },
    {
     "data": {
      "text/html": [
       "<pre>recommendations finished on 171000/478176 queries. users per second: 19773.3</pre>"
      ],
      "text/plain": [
       "recommendations finished on 171000/478176 queries. users per second: 19773.3"
      ]
     },
     "metadata": {},
     "output_type": "display_data"
    },
    {
     "data": {
      "text/html": [
       "<pre>recommendations finished on 172000/478176 queries. users per second: 19763.1</pre>"
      ],
      "text/plain": [
       "recommendations finished on 172000/478176 queries. users per second: 19763.1"
      ]
     },
     "metadata": {},
     "output_type": "display_data"
    },
    {
     "data": {
      "text/html": [
       "<pre>recommendations finished on 173000/478176 queries. users per second: 19759.9</pre>"
      ],
      "text/plain": [
       "recommendations finished on 173000/478176 queries. users per second: 19759.9"
      ]
     },
     "metadata": {},
     "output_type": "display_data"
    },
    {
     "data": {
      "text/html": [
       "<pre>recommendations finished on 174000/478176 queries. users per second: 19756.7</pre>"
      ],
      "text/plain": [
       "recommendations finished on 174000/478176 queries. users per second: 19756.7"
      ]
     },
     "metadata": {},
     "output_type": "display_data"
    },
    {
     "data": {
      "text/html": [
       "<pre>recommendations finished on 175000/478176 queries. users per second: 19749.1</pre>"
      ],
      "text/plain": [
       "recommendations finished on 175000/478176 queries. users per second: 19749.1"
      ]
     },
     "metadata": {},
     "output_type": "display_data"
    },
    {
     "data": {
      "text/html": [
       "<pre>recommendations finished on 176000/478176 queries. users per second: 19745.4</pre>"
      ],
      "text/plain": [
       "recommendations finished on 176000/478176 queries. users per second: 19745.4"
      ]
     },
     "metadata": {},
     "output_type": "display_data"
    },
    {
     "data": {
      "text/html": [
       "<pre>recommendations finished on 177000/478176 queries. users per second: 19738</pre>"
      ],
      "text/plain": [
       "recommendations finished on 177000/478176 queries. users per second: 19738"
      ]
     },
     "metadata": {},
     "output_type": "display_data"
    },
    {
     "data": {
      "text/html": [
       "<pre>recommendations finished on 178000/478176 queries. users per second: 19721.8</pre>"
      ],
      "text/plain": [
       "recommendations finished on 178000/478176 queries. users per second: 19721.8"
      ]
     },
     "metadata": {},
     "output_type": "display_data"
    },
    {
     "data": {
      "text/html": [
       "<pre>recommendations finished on 179000/478176 queries. users per second: 19714.6</pre>"
      ],
      "text/plain": [
       "recommendations finished on 179000/478176 queries. users per second: 19714.6"
      ]
     },
     "metadata": {},
     "output_type": "display_data"
    },
    {
     "data": {
      "text/html": [
       "<pre>recommendations finished on 180000/478176 queries. users per second: 19713.8</pre>"
      ],
      "text/plain": [
       "recommendations finished on 180000/478176 queries. users per second: 19713.8"
      ]
     },
     "metadata": {},
     "output_type": "display_data"
    },
    {
     "data": {
      "text/html": [
       "<pre>recommendations finished on 181000/478176 queries. users per second: 19714.4</pre>"
      ],
      "text/plain": [
       "recommendations finished on 181000/478176 queries. users per second: 19714.4"
      ]
     },
     "metadata": {},
     "output_type": "display_data"
    },
    {
     "data": {
      "text/html": [
       "<pre>recommendations finished on 182000/478176 queries. users per second: 19710.2</pre>"
      ],
      "text/plain": [
       "recommendations finished on 182000/478176 queries. users per second: 19710.2"
      ]
     },
     "metadata": {},
     "output_type": "display_data"
    },
    {
     "data": {
      "text/html": [
       "<pre>recommendations finished on 183000/478176 queries. users per second: 19718</pre>"
      ],
      "text/plain": [
       "recommendations finished on 183000/478176 queries. users per second: 19718"
      ]
     },
     "metadata": {},
     "output_type": "display_data"
    },
    {
     "data": {
      "text/html": [
       "<pre>recommendations finished on 184000/478176 queries. users per second: 19706.4</pre>"
      ],
      "text/plain": [
       "recommendations finished on 184000/478176 queries. users per second: 19706.4"
      ]
     },
     "metadata": {},
     "output_type": "display_data"
    },
    {
     "data": {
      "text/html": [
       "<pre>recommendations finished on 185000/478176 queries. users per second: 19703.7</pre>"
      ],
      "text/plain": [
       "recommendations finished on 185000/478176 queries. users per second: 19703.7"
      ]
     },
     "metadata": {},
     "output_type": "display_data"
    },
    {
     "data": {
      "text/html": [
       "<pre>recommendations finished on 186000/478176 queries. users per second: 19701</pre>"
      ],
      "text/plain": [
       "recommendations finished on 186000/478176 queries. users per second: 19701"
      ]
     },
     "metadata": {},
     "output_type": "display_data"
    },
    {
     "data": {
      "text/html": [
       "<pre>recommendations finished on 187000/478176 queries. users per second: 19696.3</pre>"
      ],
      "text/plain": [
       "recommendations finished on 187000/478176 queries. users per second: 19696.3"
      ]
     },
     "metadata": {},
     "output_type": "display_data"
    },
    {
     "data": {
      "text/html": [
       "<pre>recommendations finished on 188000/478176 queries. users per second: 19693.6</pre>"
      ],
      "text/plain": [
       "recommendations finished on 188000/478176 queries. users per second: 19693.6"
      ]
     },
     "metadata": {},
     "output_type": "display_data"
    },
    {
     "data": {
      "text/html": [
       "<pre>recommendations finished on 189000/478176 queries. users per second: 19689.1</pre>"
      ],
      "text/plain": [
       "recommendations finished on 189000/478176 queries. users per second: 19689.1"
      ]
     },
     "metadata": {},
     "output_type": "display_data"
    },
    {
     "data": {
      "text/html": [
       "<pre>recommendations finished on 190000/478176 queries. users per second: 19694.6</pre>"
      ],
      "text/plain": [
       "recommendations finished on 190000/478176 queries. users per second: 19694.6"
      ]
     },
     "metadata": {},
     "output_type": "display_data"
    },
    {
     "data": {
      "text/html": [
       "<pre>recommendations finished on 191000/478176 queries. users per second: 19678</pre>"
      ],
      "text/plain": [
       "recommendations finished on 191000/478176 queries. users per second: 19678"
      ]
     },
     "metadata": {},
     "output_type": "display_data"
    },
    {
     "data": {
      "text/html": [
       "<pre>recommendations finished on 192000/478176 queries. users per second: 19675.6</pre>"
      ],
      "text/plain": [
       "recommendations finished on 192000/478176 queries. users per second: 19675.6"
      ]
     },
     "metadata": {},
     "output_type": "display_data"
    },
    {
     "data": {
      "text/html": [
       "<pre>recommendations finished on 193000/478176 queries. users per second: 19670.2</pre>"
      ],
      "text/plain": [
       "recommendations finished on 193000/478176 queries. users per second: 19670.2"
      ]
     },
     "metadata": {},
     "output_type": "display_data"
    },
    {
     "data": {
      "text/html": [
       "<pre>recommendations finished on 194000/478176 queries. users per second: 19667.7</pre>"
      ],
      "text/plain": [
       "recommendations finished on 194000/478176 queries. users per second: 19667.7"
      ]
     },
     "metadata": {},
     "output_type": "display_data"
    },
    {
     "data": {
      "text/html": [
       "<pre>recommendations finished on 195000/478176 queries. users per second: 19669.9</pre>"
      ],
      "text/plain": [
       "recommendations finished on 195000/478176 queries. users per second: 19669.9"
      ]
     },
     "metadata": {},
     "output_type": "display_data"
    },
    {
     "data": {
      "text/html": [
       "<pre>recommendations finished on 196000/478176 queries. users per second: 19654.5</pre>"
      ],
      "text/plain": [
       "recommendations finished on 196000/478176 queries. users per second: 19654.5"
      ]
     },
     "metadata": {},
     "output_type": "display_data"
    },
    {
     "data": {
      "text/html": [
       "<pre>recommendations finished on 197000/478176 queries. users per second: 19640.4</pre>"
      ],
      "text/plain": [
       "recommendations finished on 197000/478176 queries. users per second: 19640.4"
      ]
     },
     "metadata": {},
     "output_type": "display_data"
    },
    {
     "data": {
      "text/html": [
       "<pre>recommendations finished on 198000/478176 queries. users per second: 19639.9</pre>"
      ],
      "text/plain": [
       "recommendations finished on 198000/478176 queries. users per second: 19639.9"
      ]
     },
     "metadata": {},
     "output_type": "display_data"
    },
    {
     "data": {
      "text/html": [
       "<pre>recommendations finished on 199000/478176 queries. users per second: 19635.8</pre>"
      ],
      "text/plain": [
       "recommendations finished on 199000/478176 queries. users per second: 19635.8"
      ]
     },
     "metadata": {},
     "output_type": "display_data"
    },
    {
     "data": {
      "text/html": [
       "<pre>recommendations finished on 200000/478176 queries. users per second: 19631.7</pre>"
      ],
      "text/plain": [
       "recommendations finished on 200000/478176 queries. users per second: 19631.7"
      ]
     },
     "metadata": {},
     "output_type": "display_data"
    },
    {
     "data": {
      "text/html": [
       "<pre>recommendations finished on 201000/478176 queries. users per second: 19629.6</pre>"
      ],
      "text/plain": [
       "recommendations finished on 201000/478176 queries. users per second: 19629.6"
      ]
     },
     "metadata": {},
     "output_type": "display_data"
    },
    {
     "data": {
      "text/html": [
       "<pre>recommendations finished on 202000/478176 queries. users per second: 19623.7</pre>"
      ],
      "text/plain": [
       "recommendations finished on 202000/478176 queries. users per second: 19623.7"
      ]
     },
     "metadata": {},
     "output_type": "display_data"
    },
    {
     "data": {
      "text/html": [
       "<pre>recommendations finished on 203000/478176 queries. users per second: 19617.8</pre>"
      ],
      "text/plain": [
       "recommendations finished on 203000/478176 queries. users per second: 19617.8"
      ]
     },
     "metadata": {},
     "output_type": "display_data"
    },
    {
     "data": {
      "text/html": [
       "<pre>recommendations finished on 204000/478176 queries. users per second: 19621.3</pre>"
      ],
      "text/plain": [
       "recommendations finished on 204000/478176 queries. users per second: 19621.3"
      ]
     },
     "metadata": {},
     "output_type": "display_data"
    },
    {
     "data": {
      "text/html": [
       "<pre>recommendations finished on 205000/478176 queries. users per second: 19611.5</pre>"
      ],
      "text/plain": [
       "recommendations finished on 205000/478176 queries. users per second: 19611.5"
      ]
     },
     "metadata": {},
     "output_type": "display_data"
    },
    {
     "data": {
      "text/html": [
       "<pre>recommendations finished on 206000/478176 queries. users per second: 19609.5</pre>"
      ],
      "text/plain": [
       "recommendations finished on 206000/478176 queries. users per second: 19609.5"
      ]
     },
     "metadata": {},
     "output_type": "display_data"
    },
    {
     "data": {
      "text/html": [
       "<pre>recommendations finished on 207000/478176 queries. users per second: 19607.6</pre>"
      ],
      "text/plain": [
       "recommendations finished on 207000/478176 queries. users per second: 19607.6"
      ]
     },
     "metadata": {},
     "output_type": "display_data"
    },
    {
     "data": {
      "text/html": [
       "<pre>recommendations finished on 208000/478176 queries. users per second: 19605.7</pre>"
      ],
      "text/plain": [
       "recommendations finished on 208000/478176 queries. users per second: 19605.7"
      ]
     },
     "metadata": {},
     "output_type": "display_data"
    },
    {
     "data": {
      "text/html": [
       "<pre>recommendations finished on 209000/478176 queries. users per second: 19604</pre>"
      ],
      "text/plain": [
       "recommendations finished on 209000/478176 queries. users per second: 19604"
      ]
     },
     "metadata": {},
     "output_type": "display_data"
    },
    {
     "data": {
      "text/html": [
       "<pre>recommendations finished on 210000/478176 queries. users per second: 19603.2</pre>"
      ],
      "text/plain": [
       "recommendations finished on 210000/478176 queries. users per second: 19603.2"
      ]
     },
     "metadata": {},
     "output_type": "display_data"
    },
    {
     "data": {
      "text/html": [
       "<pre>recommendations finished on 211000/478176 queries. users per second: 19601.4</pre>"
      ],
      "text/plain": [
       "recommendations finished on 211000/478176 queries. users per second: 19601.4"
      ]
     },
     "metadata": {},
     "output_type": "display_data"
    },
    {
     "data": {
      "text/html": [
       "<pre>recommendations finished on 212000/478176 queries. users per second: 19604.9</pre>"
      ],
      "text/plain": [
       "recommendations finished on 212000/478176 queries. users per second: 19604.9"
      ]
     },
     "metadata": {},
     "output_type": "display_data"
    },
    {
     "data": {
      "text/html": [
       "<pre>recommendations finished on 213000/478176 queries. users per second: 19599.4</pre>"
      ],
      "text/plain": [
       "recommendations finished on 213000/478176 queries. users per second: 19599.4"
      ]
     },
     "metadata": {},
     "output_type": "display_data"
    },
    {
     "data": {
      "text/html": [
       "<pre>recommendations finished on 214000/478176 queries. users per second: 19595.8</pre>"
      ],
      "text/plain": [
       "recommendations finished on 214000/478176 queries. users per second: 19595.8"
      ]
     },
     "metadata": {},
     "output_type": "display_data"
    },
    {
     "data": {
      "text/html": [
       "<pre>recommendations finished on 215000/478176 queries. users per second: 19588.7</pre>"
      ],
      "text/plain": [
       "recommendations finished on 215000/478176 queries. users per second: 19588.7"
      ]
     },
     "metadata": {},
     "output_type": "display_data"
    },
    {
     "data": {
      "text/html": [
       "<pre>recommendations finished on 216000/478176 queries. users per second: 19582.9</pre>"
      ],
      "text/plain": [
       "recommendations finished on 216000/478176 queries. users per second: 19582.9"
      ]
     },
     "metadata": {},
     "output_type": "display_data"
    },
    {
     "data": {
      "text/html": [
       "<pre>recommendations finished on 217000/478176 queries. users per second: 19576.8</pre>"
      ],
      "text/plain": [
       "recommendations finished on 217000/478176 queries. users per second: 19576.8"
      ]
     },
     "metadata": {},
     "output_type": "display_data"
    },
    {
     "data": {
      "text/html": [
       "<pre>recommendations finished on 218000/478176 queries. users per second: 19576.9</pre>"
      ],
      "text/plain": [
       "recommendations finished on 218000/478176 queries. users per second: 19576.9"
      ]
     },
     "metadata": {},
     "output_type": "display_data"
    },
    {
     "data": {
      "text/html": [
       "<pre>recommendations finished on 219000/478176 queries. users per second: 19575.2</pre>"
      ],
      "text/plain": [
       "recommendations finished on 219000/478176 queries. users per second: 19575.2"
      ]
     },
     "metadata": {},
     "output_type": "display_data"
    },
    {
     "data": {
      "text/html": [
       "<pre>recommendations finished on 220000/478176 queries. users per second: 19575.3</pre>"
      ],
      "text/plain": [
       "recommendations finished on 220000/478176 queries. users per second: 19575.3"
      ]
     },
     "metadata": {},
     "output_type": "display_data"
    },
    {
     "data": {
      "text/html": [
       "<pre>recommendations finished on 221000/478176 queries. users per second: 19571.9</pre>"
      ],
      "text/plain": [
       "recommendations finished on 221000/478176 queries. users per second: 19571.9"
      ]
     },
     "metadata": {},
     "output_type": "display_data"
    },
    {
     "data": {
      "text/html": [
       "<pre>recommendations finished on 222000/478176 queries. users per second: 19572</pre>"
      ],
      "text/plain": [
       "recommendations finished on 222000/478176 queries. users per second: 19572"
      ]
     },
     "metadata": {},
     "output_type": "display_data"
    },
    {
     "data": {
      "text/html": [
       "<pre>recommendations finished on 223000/478176 queries. users per second: 19569.4</pre>"
      ],
      "text/plain": [
       "recommendations finished on 223000/478176 queries. users per second: 19569.4"
      ]
     },
     "metadata": {},
     "output_type": "display_data"
    },
    {
     "data": {
      "text/html": [
       "<pre>recommendations finished on 224000/478176 queries. users per second: 19570.1</pre>"
      ],
      "text/plain": [
       "recommendations finished on 224000/478176 queries. users per second: 19570.1"
      ]
     },
     "metadata": {},
     "output_type": "display_data"
    },
    {
     "data": {
      "text/html": [
       "<pre>recommendations finished on 225000/478176 queries. users per second: 19571</pre>"
      ],
      "text/plain": [
       "recommendations finished on 225000/478176 queries. users per second: 19571"
      ]
     },
     "metadata": {},
     "output_type": "display_data"
    },
    {
     "data": {
      "text/html": [
       "<pre>recommendations finished on 226000/478176 queries. users per second: 19565.6</pre>"
      ],
      "text/plain": [
       "recommendations finished on 226000/478176 queries. users per second: 19565.6"
      ]
     },
     "metadata": {},
     "output_type": "display_data"
    },
    {
     "data": {
      "text/html": [
       "<pre>recommendations finished on 227000/478176 queries. users per second: 19559</pre>"
      ],
      "text/plain": [
       "recommendations finished on 227000/478176 queries. users per second: 19559"
      ]
     },
     "metadata": {},
     "output_type": "display_data"
    },
    {
     "data": {
      "text/html": [
       "<pre>recommendations finished on 228000/478176 queries. users per second: 19554.1</pre>"
      ],
      "text/plain": [
       "recommendations finished on 228000/478176 queries. users per second: 19554.1"
      ]
     },
     "metadata": {},
     "output_type": "display_data"
    },
    {
     "data": {
      "text/html": [
       "<pre>recommendations finished on 229000/478176 queries. users per second: 19553.2</pre>"
      ],
      "text/plain": [
       "recommendations finished on 229000/478176 queries. users per second: 19553.2"
      ]
     },
     "metadata": {},
     "output_type": "display_data"
    },
    {
     "data": {
      "text/html": [
       "<pre>recommendations finished on 230000/478176 queries. users per second: 19553.3</pre>"
      ],
      "text/plain": [
       "recommendations finished on 230000/478176 queries. users per second: 19553.3"
      ]
     },
     "metadata": {},
     "output_type": "display_data"
    },
    {
     "data": {
      "text/html": [
       "<pre>recommendations finished on 231000/478176 queries. users per second: 19547.4</pre>"
      ],
      "text/plain": [
       "recommendations finished on 231000/478176 queries. users per second: 19547.4"
      ]
     },
     "metadata": {},
     "output_type": "display_data"
    },
    {
     "data": {
      "text/html": [
       "<pre>recommendations finished on 232000/478176 queries. users per second: 19547.6</pre>"
      ],
      "text/plain": [
       "recommendations finished on 232000/478176 queries. users per second: 19547.6"
      ]
     },
     "metadata": {},
     "output_type": "display_data"
    },
    {
     "data": {
      "text/html": [
       "<pre>recommendations finished on 233000/478176 queries. users per second: 19546.2</pre>"
      ],
      "text/plain": [
       "recommendations finished on 233000/478176 queries. users per second: 19546.2"
      ]
     },
     "metadata": {},
     "output_type": "display_data"
    },
    {
     "data": {
      "text/html": [
       "<pre>recommendations finished on 234000/478176 queries. users per second: 19544.8</pre>"
      ],
      "text/plain": [
       "recommendations finished on 234000/478176 queries. users per second: 19544.8"
      ]
     },
     "metadata": {},
     "output_type": "display_data"
    },
    {
     "data": {
      "text/html": [
       "<pre>recommendations finished on 235000/478176 queries. users per second: 19535.2</pre>"
      ],
      "text/plain": [
       "recommendations finished on 235000/478176 queries. users per second: 19535.2"
      ]
     },
     "metadata": {},
     "output_type": "display_data"
    },
    {
     "data": {
      "text/html": [
       "<pre>recommendations finished on 236000/478176 queries. users per second: 19529</pre>"
      ],
      "text/plain": [
       "recommendations finished on 236000/478176 queries. users per second: 19529"
      ]
     },
     "metadata": {},
     "output_type": "display_data"
    },
    {
     "data": {
      "text/html": [
       "<pre>recommendations finished on 237000/478176 queries. users per second: 19529.3</pre>"
      ],
      "text/plain": [
       "recommendations finished on 237000/478176 queries. users per second: 19529.3"
      ]
     },
     "metadata": {},
     "output_type": "display_data"
    },
    {
     "data": {
      "text/html": [
       "<pre>recommendations finished on 238000/478176 queries. users per second: 19529.6</pre>"
      ],
      "text/plain": [
       "recommendations finished on 238000/478176 queries. users per second: 19529.6"
      ]
     },
     "metadata": {},
     "output_type": "display_data"
    },
    {
     "data": {
      "text/html": [
       "<pre>recommendations finished on 239000/478176 queries. users per second: 19525</pre>"
      ],
      "text/plain": [
       "recommendations finished on 239000/478176 queries. users per second: 19525"
      ]
     },
     "metadata": {},
     "output_type": "display_data"
    },
    {
     "data": {
      "text/html": [
       "<pre>recommendations finished on 240000/478176 queries. users per second: 19525.3</pre>"
      ],
      "text/plain": [
       "recommendations finished on 240000/478176 queries. users per second: 19525.3"
      ]
     },
     "metadata": {},
     "output_type": "display_data"
    },
    {
     "data": {
      "text/html": [
       "<pre>recommendations finished on 241000/478176 queries. users per second: 19524</pre>"
      ],
      "text/plain": [
       "recommendations finished on 241000/478176 queries. users per second: 19524"
      ]
     },
     "metadata": {},
     "output_type": "display_data"
    },
    {
     "data": {
      "text/html": [
       "<pre>recommendations finished on 242000/478176 queries. users per second: 19523.2</pre>"
      ],
      "text/plain": [
       "recommendations finished on 242000/478176 queries. users per second: 19523.2"
      ]
     },
     "metadata": {},
     "output_type": "display_data"
    },
    {
     "data": {
      "text/html": [
       "<pre>recommendations finished on 243000/478176 queries. users per second: 19521.9</pre>"
      ],
      "text/plain": [
       "recommendations finished on 243000/478176 queries. users per second: 19521.9"
      ]
     },
     "metadata": {},
     "output_type": "display_data"
    },
    {
     "data": {
      "text/html": [
       "<pre>recommendations finished on 244000/478176 queries. users per second: 19526.8</pre>"
      ],
      "text/plain": [
       "recommendations finished on 244000/478176 queries. users per second: 19526.8"
      ]
     },
     "metadata": {},
     "output_type": "display_data"
    },
    {
     "data": {
      "text/html": [
       "<pre>recommendations finished on 245000/478176 queries. users per second: 19521.3</pre>"
      ],
      "text/plain": [
       "recommendations finished on 245000/478176 queries. users per second: 19521.3"
      ]
     },
     "metadata": {},
     "output_type": "display_data"
    },
    {
     "data": {
      "text/html": [
       "<pre>recommendations finished on 246000/478176 queries. users per second: 19520.1</pre>"
      ],
      "text/plain": [
       "recommendations finished on 246000/478176 queries. users per second: 19520.1"
      ]
     },
     "metadata": {},
     "output_type": "display_data"
    },
    {
     "data": {
      "text/html": [
       "<pre>recommendations finished on 247000/478176 queries. users per second: 19518.8</pre>"
      ],
      "text/plain": [
       "recommendations finished on 247000/478176 queries. users per second: 19518.8"
      ]
     },
     "metadata": {},
     "output_type": "display_data"
    },
    {
     "data": {
      "text/html": [
       "<pre>recommendations finished on 248000/478176 queries. users per second: 19517.6</pre>"
      ],
      "text/plain": [
       "recommendations finished on 248000/478176 queries. users per second: 19517.6"
      ]
     },
     "metadata": {},
     "output_type": "display_data"
    },
    {
     "data": {
      "text/html": [
       "<pre>recommendations finished on 249000/478176 queries. users per second: 19516.3</pre>"
      ],
      "text/plain": [
       "recommendations finished on 249000/478176 queries. users per second: 19516.3"
      ]
     },
     "metadata": {},
     "output_type": "display_data"
    },
    {
     "data": {
      "text/html": [
       "<pre>recommendations finished on 250000/478176 queries. users per second: 19512.2</pre>"
      ],
      "text/plain": [
       "recommendations finished on 250000/478176 queries. users per second: 19512.2"
      ]
     },
     "metadata": {},
     "output_type": "display_data"
    },
    {
     "data": {
      "text/html": [
       "<pre>recommendations finished on 251000/478176 queries. users per second: 19508.9</pre>"
      ],
      "text/plain": [
       "recommendations finished on 251000/478176 queries. users per second: 19508.9"
      ]
     },
     "metadata": {},
     "output_type": "display_data"
    },
    {
     "data": {
      "text/html": [
       "<pre>recommendations finished on 252000/478176 queries. users per second: 19506.2</pre>"
      ],
      "text/plain": [
       "recommendations finished on 252000/478176 queries. users per second: 19506.2"
      ]
     },
     "metadata": {},
     "output_type": "display_data"
    },
    {
     "data": {
      "text/html": [
       "<pre>recommendations finished on 253000/478176 queries. users per second: 19500.5</pre>"
      ],
      "text/plain": [
       "recommendations finished on 253000/478176 queries. users per second: 19500.5"
      ]
     },
     "metadata": {},
     "output_type": "display_data"
    },
    {
     "data": {
      "text/html": [
       "<pre>recommendations finished on 254000/478176 queries. users per second: 19491.9</pre>"
      ],
      "text/plain": [
       "recommendations finished on 254000/478176 queries. users per second: 19491.9"
      ]
     },
     "metadata": {},
     "output_type": "display_data"
    },
    {
     "data": {
      "text/html": [
       "<pre>recommendations finished on 255000/478176 queries. users per second: 19489.3</pre>"
      ],
      "text/plain": [
       "recommendations finished on 255000/478176 queries. users per second: 19489.3"
      ]
     },
     "metadata": {},
     "output_type": "display_data"
    },
    {
     "data": {
      "text/html": [
       "<pre>recommendations finished on 256000/478176 queries. users per second: 19489.7</pre>"
      ],
      "text/plain": [
       "recommendations finished on 256000/478176 queries. users per second: 19489.7"
      ]
     },
     "metadata": {},
     "output_type": "display_data"
    },
    {
     "data": {
      "text/html": [
       "<pre>recommendations finished on 257000/478176 queries. users per second: 19488.7</pre>"
      ],
      "text/plain": [
       "recommendations finished on 257000/478176 queries. users per second: 19488.7"
      ]
     },
     "metadata": {},
     "output_type": "display_data"
    },
    {
     "data": {
      "text/html": [
       "<pre>recommendations finished on 258000/478176 queries. users per second: 19487.6</pre>"
      ],
      "text/plain": [
       "recommendations finished on 258000/478176 queries. users per second: 19487.6"
      ]
     },
     "metadata": {},
     "output_type": "display_data"
    },
    {
     "data": {
      "text/html": [
       "<pre>recommendations finished on 259000/478176 queries. users per second: 19480.6</pre>"
      ],
      "text/plain": [
       "recommendations finished on 259000/478176 queries. users per second: 19480.6"
      ]
     },
     "metadata": {},
     "output_type": "display_data"
    },
    {
     "data": {
      "text/html": [
       "<pre>recommendations finished on 260000/478176 queries. users per second: 19482.2</pre>"
      ],
      "text/plain": [
       "recommendations finished on 260000/478176 queries. users per second: 19482.2"
      ]
     },
     "metadata": {},
     "output_type": "display_data"
    },
    {
     "data": {
      "text/html": [
       "<pre>recommendations finished on 261000/478176 queries. users per second: 19484.4</pre>"
      ],
      "text/plain": [
       "recommendations finished on 261000/478176 queries. users per second: 19484.4"
      ]
     },
     "metadata": {},
     "output_type": "display_data"
    },
    {
     "data": {
      "text/html": [
       "<pre>recommendations finished on 262000/478176 queries. users per second: 19476.2</pre>"
      ],
      "text/plain": [
       "recommendations finished on 262000/478176 queries. users per second: 19476.2"
      ]
     },
     "metadata": {},
     "output_type": "display_data"
    },
    {
     "data": {
      "text/html": [
       "<pre>recommendations finished on 263000/478176 queries. users per second: 19465.1</pre>"
      ],
      "text/plain": [
       "recommendations finished on 263000/478176 queries. users per second: 19465.1"
      ]
     },
     "metadata": {},
     "output_type": "display_data"
    },
    {
     "data": {
      "text/html": [
       "<pre>recommendations finished on 264000/478176 queries. users per second: 19453.5</pre>"
      ],
      "text/plain": [
       "recommendations finished on 264000/478176 queries. users per second: 19453.5"
      ]
     },
     "metadata": {},
     "output_type": "display_data"
    },
    {
     "data": {
      "text/html": [
       "<pre>recommendations finished on 265000/478176 queries. users per second: 19452.6</pre>"
      ],
      "text/plain": [
       "recommendations finished on 265000/478176 queries. users per second: 19452.6"
      ]
     },
     "metadata": {},
     "output_type": "display_data"
    },
    {
     "data": {
      "text/html": [
       "<pre>recommendations finished on 266000/478176 queries. users per second: 19447.5</pre>"
      ],
      "text/plain": [
       "recommendations finished on 266000/478176 queries. users per second: 19447.5"
      ]
     },
     "metadata": {},
     "output_type": "display_data"
    },
    {
     "data": {
      "text/html": [
       "<pre>recommendations finished on 267000/478176 queries. users per second: 19448.1</pre>"
      ],
      "text/plain": [
       "recommendations finished on 267000/478176 queries. users per second: 19448.1"
      ]
     },
     "metadata": {},
     "output_type": "display_data"
    },
    {
     "data": {
      "text/html": [
       "<pre>recommendations finished on 268000/478176 queries. users per second: 19442.2</pre>"
      ],
      "text/plain": [
       "recommendations finished on 268000/478176 queries. users per second: 19442.2"
      ]
     },
     "metadata": {},
     "output_type": "display_data"
    },
    {
     "data": {
      "text/html": [
       "<pre>recommendations finished on 269000/478176 queries. users per second: 19428.6</pre>"
      ],
      "text/plain": [
       "recommendations finished on 269000/478176 queries. users per second: 19428.6"
      ]
     },
     "metadata": {},
     "output_type": "display_data"
    },
    {
     "data": {
      "text/html": [
       "<pre>recommendations finished on 270000/478176 queries. users per second: 19409.3</pre>"
      ],
      "text/plain": [
       "recommendations finished on 270000/478176 queries. users per second: 19409.3"
      ]
     },
     "metadata": {},
     "output_type": "display_data"
    },
    {
     "data": {
      "text/html": [
       "<pre>recommendations finished on 271000/478176 queries. users per second: 19397.4</pre>"
      ],
      "text/plain": [
       "recommendations finished on 271000/478176 queries. users per second: 19397.4"
      ]
     },
     "metadata": {},
     "output_type": "display_data"
    },
    {
     "data": {
      "text/html": [
       "<pre>recommendations finished on 272000/478176 queries. users per second: 19389.7</pre>"
      ],
      "text/plain": [
       "recommendations finished on 272000/478176 queries. users per second: 19389.7"
      ]
     },
     "metadata": {},
     "output_type": "display_data"
    },
    {
     "data": {
      "text/html": [
       "<pre>recommendations finished on 273000/478176 queries. users per second: 19385.2</pre>"
      ],
      "text/plain": [
       "recommendations finished on 273000/478176 queries. users per second: 19385.2"
      ]
     },
     "metadata": {},
     "output_type": "display_data"
    },
    {
     "data": {
      "text/html": [
       "<pre>recommendations finished on 274000/478176 queries. users per second: 19383.3</pre>"
      ],
      "text/plain": [
       "recommendations finished on 274000/478176 queries. users per second: 19383.3"
      ]
     },
     "metadata": {},
     "output_type": "display_data"
    },
    {
     "data": {
      "text/html": [
       "<pre>recommendations finished on 275000/478176 queries. users per second: 19384</pre>"
      ],
      "text/plain": [
       "recommendations finished on 275000/478176 queries. users per second: 19384"
      ]
     },
     "metadata": {},
     "output_type": "display_data"
    },
    {
     "data": {
      "text/html": [
       "<pre>recommendations finished on 276000/478176 queries. users per second: 19383.4</pre>"
      ],
      "text/plain": [
       "recommendations finished on 276000/478176 queries. users per second: 19383.4"
      ]
     },
     "metadata": {},
     "output_type": "display_data"
    },
    {
     "data": {
      "text/html": [
       "<pre>recommendations finished on 277000/478176 queries. users per second: 19382.8</pre>"
      ],
      "text/plain": [
       "recommendations finished on 277000/478176 queries. users per second: 19382.8"
      ]
     },
     "metadata": {},
     "output_type": "display_data"
    },
    {
     "data": {
      "text/html": [
       "<pre>recommendations finished on 278000/478176 queries. users per second: 19381.9</pre>"
      ],
      "text/plain": [
       "recommendations finished on 278000/478176 queries. users per second: 19381.9"
      ]
     },
     "metadata": {},
     "output_type": "display_data"
    },
    {
     "data": {
      "text/html": [
       "<pre>recommendations finished on 279000/478176 queries. users per second: 19381.2</pre>"
      ],
      "text/plain": [
       "recommendations finished on 279000/478176 queries. users per second: 19381.2"
      ]
     },
     "metadata": {},
     "output_type": "display_data"
    },
    {
     "data": {
      "text/html": [
       "<pre>recommendations finished on 280000/478176 queries. users per second: 19384.6</pre>"
      ],
      "text/plain": [
       "recommendations finished on 280000/478176 queries. users per second: 19384.6"
      ]
     },
     "metadata": {},
     "output_type": "display_data"
    },
    {
     "data": {
      "text/html": [
       "<pre>recommendations finished on 281000/478176 queries. users per second: 19380.9</pre>"
      ],
      "text/plain": [
       "recommendations finished on 281000/478176 queries. users per second: 19380.9"
      ]
     },
     "metadata": {},
     "output_type": "display_data"
    },
    {
     "data": {
      "text/html": [
       "<pre>recommendations finished on 282000/478176 queries. users per second: 19380.4</pre>"
      ],
      "text/plain": [
       "recommendations finished on 282000/478176 queries. users per second: 19380.4"
      ]
     },
     "metadata": {},
     "output_type": "display_data"
    },
    {
     "data": {
      "text/html": [
       "<pre>recommendations finished on 283000/478176 queries. users per second: 19379.8</pre>"
      ],
      "text/plain": [
       "recommendations finished on 283000/478176 queries. users per second: 19379.8"
      ]
     },
     "metadata": {},
     "output_type": "display_data"
    },
    {
     "data": {
      "text/html": [
       "<pre>recommendations finished on 284000/478176 queries. users per second: 19380.5</pre>"
      ],
      "text/plain": [
       "recommendations finished on 284000/478176 queries. users per second: 19380.5"
      ]
     },
     "metadata": {},
     "output_type": "display_data"
    },
    {
     "data": {
      "text/html": [
       "<pre>recommendations finished on 285000/478176 queries. users per second: 19379.9</pre>"
      ],
      "text/plain": [
       "recommendations finished on 285000/478176 queries. users per second: 19379.9"
      ]
     },
     "metadata": {},
     "output_type": "display_data"
    },
    {
     "data": {
      "text/html": [
       "<pre>recommendations finished on 286000/478176 queries. users per second: 19376.7</pre>"
      ],
      "text/plain": [
       "recommendations finished on 286000/478176 queries. users per second: 19376.7"
      ]
     },
     "metadata": {},
     "output_type": "display_data"
    },
    {
     "data": {
      "text/html": [
       "<pre>recommendations finished on 287000/478176 queries. users per second: 19377.6</pre>"
      ],
      "text/plain": [
       "recommendations finished on 287000/478176 queries. users per second: 19377.6"
      ]
     },
     "metadata": {},
     "output_type": "display_data"
    },
    {
     "data": {
      "text/html": [
       "<pre>recommendations finished on 288000/478176 queries. users per second: 19363.4</pre>"
      ],
      "text/plain": [
       "recommendations finished on 288000/478176 queries. users per second: 19363.4"
      ]
     },
     "metadata": {},
     "output_type": "display_data"
    },
    {
     "data": {
      "text/html": [
       "<pre>recommendations finished on 289000/478176 queries. users per second: 19360.3</pre>"
      ],
      "text/plain": [
       "recommendations finished on 289000/478176 queries. users per second: 19360.3"
      ]
     },
     "metadata": {},
     "output_type": "display_data"
    },
    {
     "data": {
      "text/html": [
       "<pre>recommendations finished on 290000/478176 queries. users per second: 19348.4</pre>"
      ],
      "text/plain": [
       "recommendations finished on 290000/478176 queries. users per second: 19348.4"
      ]
     },
     "metadata": {},
     "output_type": "display_data"
    },
    {
     "data": {
      "text/html": [
       "<pre>recommendations finished on 291000/478176 queries. users per second: 19338.9</pre>"
      ],
      "text/plain": [
       "recommendations finished on 291000/478176 queries. users per second: 19338.9"
      ]
     },
     "metadata": {},
     "output_type": "display_data"
    },
    {
     "data": {
      "text/html": [
       "<pre>recommendations finished on 292000/478176 queries. users per second: 19336</pre>"
      ],
      "text/plain": [
       "recommendations finished on 292000/478176 queries. users per second: 19336"
      ]
     },
     "metadata": {},
     "output_type": "display_data"
    },
    {
     "data": {
      "text/html": [
       "<pre>recommendations finished on 293000/478176 queries. users per second: 19335.6</pre>"
      ],
      "text/plain": [
       "recommendations finished on 293000/478176 queries. users per second: 19335.6"
      ]
     },
     "metadata": {},
     "output_type": "display_data"
    },
    {
     "data": {
      "text/html": [
       "<pre>recommendations finished on 294000/478176 queries. users per second: 19327.4</pre>"
      ],
      "text/plain": [
       "recommendations finished on 294000/478176 queries. users per second: 19327.4"
      ]
     },
     "metadata": {},
     "output_type": "display_data"
    },
    {
     "data": {
      "text/html": [
       "<pre>recommendations finished on 295000/478176 queries. users per second: 19317</pre>"
      ],
      "text/plain": [
       "recommendations finished on 295000/478176 queries. users per second: 19317"
      ]
     },
     "metadata": {},
     "output_type": "display_data"
    },
    {
     "data": {
      "text/html": [
       "<pre>recommendations finished on 296000/478176 queries. users per second: 19316.7</pre>"
      ],
      "text/plain": [
       "recommendations finished on 296000/478176 queries. users per second: 19316.7"
      ]
     },
     "metadata": {},
     "output_type": "display_data"
    },
    {
     "data": {
      "text/html": [
       "<pre>recommendations finished on 297000/478176 queries. users per second: 19314.1</pre>"
      ],
      "text/plain": [
       "recommendations finished on 297000/478176 queries. users per second: 19314.1"
      ]
     },
     "metadata": {},
     "output_type": "display_data"
    },
    {
     "data": {
      "text/html": [
       "<pre>recommendations finished on 298000/478176 queries. users per second: 19309.9</pre>"
      ],
      "text/plain": [
       "recommendations finished on 298000/478176 queries. users per second: 19309.9"
      ]
     },
     "metadata": {},
     "output_type": "display_data"
    },
    {
     "data": {
      "text/html": [
       "<pre>recommendations finished on 299000/478176 queries. users per second: 19307.1</pre>"
      ],
      "text/plain": [
       "recommendations finished on 299000/478176 queries. users per second: 19307.1"
      ]
     },
     "metadata": {},
     "output_type": "display_data"
    },
    {
     "data": {
      "text/html": [
       "<pre>recommendations finished on 300000/478176 queries. users per second: 19306.8</pre>"
      ],
      "text/plain": [
       "recommendations finished on 300000/478176 queries. users per second: 19306.8"
      ]
     },
     "metadata": {},
     "output_type": "display_data"
    },
    {
     "data": {
      "text/html": [
       "<pre>recommendations finished on 301000/478176 queries. users per second: 19306.5</pre>"
      ],
      "text/plain": [
       "recommendations finished on 301000/478176 queries. users per second: 19306.5"
      ]
     },
     "metadata": {},
     "output_type": "display_data"
    },
    {
     "data": {
      "text/html": [
       "<pre>recommendations finished on 302000/478176 queries. users per second: 19305.9</pre>"
      ],
      "text/plain": [
       "recommendations finished on 302000/478176 queries. users per second: 19305.9"
      ]
     },
     "metadata": {},
     "output_type": "display_data"
    },
    {
     "data": {
      "text/html": [
       "<pre>recommendations finished on 303000/478176 queries. users per second: 19306.1</pre>"
      ],
      "text/plain": [
       "recommendations finished on 303000/478176 queries. users per second: 19306.1"
      ]
     },
     "metadata": {},
     "output_type": "display_data"
    },
    {
     "data": {
      "text/html": [
       "<pre>recommendations finished on 304000/478176 queries. users per second: 19304.6</pre>"
      ],
      "text/plain": [
       "recommendations finished on 304000/478176 queries. users per second: 19304.6"
      ]
     },
     "metadata": {},
     "output_type": "display_data"
    },
    {
     "data": {
      "text/html": [
       "<pre>recommendations finished on 305000/478176 queries. users per second: 19305.5</pre>"
      ],
      "text/plain": [
       "recommendations finished on 305000/478176 queries. users per second: 19305.5"
      ]
     },
     "metadata": {},
     "output_type": "display_data"
    },
    {
     "data": {
      "text/html": [
       "<pre>recommendations finished on 306000/478176 queries. users per second: 19305.3</pre>"
      ],
      "text/plain": [
       "recommendations finished on 306000/478176 queries. users per second: 19305.3"
      ]
     },
     "metadata": {},
     "output_type": "display_data"
    },
    {
     "data": {
      "text/html": [
       "<pre>recommendations finished on 307000/478176 queries. users per second: 19303.8</pre>"
      ],
      "text/plain": [
       "recommendations finished on 307000/478176 queries. users per second: 19303.8"
      ]
     },
     "metadata": {},
     "output_type": "display_data"
    },
    {
     "data": {
      "text/html": [
       "<pre>recommendations finished on 308000/478176 queries. users per second: 19303.5</pre>"
      ],
      "text/plain": [
       "recommendations finished on 308000/478176 queries. users per second: 19303.5"
      ]
     },
     "metadata": {},
     "output_type": "display_data"
    },
    {
     "data": {
      "text/html": [
       "<pre>recommendations finished on 309000/478176 queries. users per second: 19294.1</pre>"
      ],
      "text/plain": [
       "recommendations finished on 309000/478176 queries. users per second: 19294.1"
      ]
     },
     "metadata": {},
     "output_type": "display_data"
    },
    {
     "data": {
      "text/html": [
       "<pre>recommendations finished on 310000/478176 queries. users per second: 19292.7</pre>"
      ],
      "text/plain": [
       "recommendations finished on 310000/478176 queries. users per second: 19292.7"
      ]
     },
     "metadata": {},
     "output_type": "display_data"
    },
    {
     "data": {
      "text/html": [
       "<pre>recommendations finished on 311000/478176 queries. users per second: 19293.6</pre>"
      ],
      "text/plain": [
       "recommendations finished on 311000/478176 queries. users per second: 19293.6"
      ]
     },
     "metadata": {},
     "output_type": "display_data"
    },
    {
     "data": {
      "text/html": [
       "<pre>recommendations finished on 312000/478176 queries. users per second: 19294.6</pre>"
      ],
      "text/plain": [
       "recommendations finished on 312000/478176 queries. users per second: 19294.6"
      ]
     },
     "metadata": {},
     "output_type": "display_data"
    },
    {
     "data": {
      "text/html": [
       "<pre>recommendations finished on 313000/478176 queries. users per second: 19291.9</pre>"
      ],
      "text/plain": [
       "recommendations finished on 313000/478176 queries. users per second: 19291.9"
      ]
     },
     "metadata": {},
     "output_type": "display_data"
    },
    {
     "data": {
      "text/html": [
       "<pre>recommendations finished on 314000/478176 queries. users per second: 19292.4</pre>"
      ],
      "text/plain": [
       "recommendations finished on 314000/478176 queries. users per second: 19292.4"
      ]
     },
     "metadata": {},
     "output_type": "display_data"
    },
    {
     "data": {
      "text/html": [
       "<pre>recommendations finished on 315000/478176 queries. users per second: 19292.9</pre>"
      ],
      "text/plain": [
       "recommendations finished on 315000/478176 queries. users per second: 19292.9"
      ]
     },
     "metadata": {},
     "output_type": "display_data"
    },
    {
     "data": {
      "text/html": [
       "<pre>recommendations finished on 316000/478176 queries. users per second: 19291.7</pre>"
      ],
      "text/plain": [
       "recommendations finished on 316000/478176 queries. users per second: 19291.7"
      ]
     },
     "metadata": {},
     "output_type": "display_data"
    },
    {
     "data": {
      "text/html": [
       "<pre>recommendations finished on 317000/478176 queries. users per second: 19290.3</pre>"
      ],
      "text/plain": [
       "recommendations finished on 317000/478176 queries. users per second: 19290.3"
      ]
     },
     "metadata": {},
     "output_type": "display_data"
    },
    {
     "data": {
      "text/html": [
       "<pre>recommendations finished on 318000/478176 queries. users per second: 19290</pre>"
      ],
      "text/plain": [
       "recommendations finished on 318000/478176 queries. users per second: 19290"
      ]
     },
     "metadata": {},
     "output_type": "display_data"
    },
    {
     "data": {
      "text/html": [
       "<pre>recommendations finished on 319000/478176 queries. users per second: 19292.1</pre>"
      ],
      "text/plain": [
       "recommendations finished on 319000/478176 queries. users per second: 19292.1"
      ]
     },
     "metadata": {},
     "output_type": "display_data"
    },
    {
     "data": {
      "text/html": [
       "<pre>recommendations finished on 320000/478176 queries. users per second: 19290.7</pre>"
      ],
      "text/plain": [
       "recommendations finished on 320000/478176 queries. users per second: 19290.7"
      ]
     },
     "metadata": {},
     "output_type": "display_data"
    },
    {
     "data": {
      "text/html": [
       "<pre>recommendations finished on 321000/478176 queries. users per second: 19288.2</pre>"
      ],
      "text/plain": [
       "recommendations finished on 321000/478176 queries. users per second: 19288.2"
      ]
     },
     "metadata": {},
     "output_type": "display_data"
    },
    {
     "data": {
      "text/html": [
       "<pre>recommendations finished on 322000/478176 queries. users per second: 19286.8</pre>"
      ],
      "text/plain": [
       "recommendations finished on 322000/478176 queries. users per second: 19286.8"
      ]
     },
     "metadata": {},
     "output_type": "display_data"
    },
    {
     "data": {
      "text/html": [
       "<pre>recommendations finished on 323000/478176 queries. users per second: 19291.2</pre>"
      ],
      "text/plain": [
       "recommendations finished on 323000/478176 queries. users per second: 19291.2"
      ]
     },
     "metadata": {},
     "output_type": "display_data"
    },
    {
     "data": {
      "text/html": [
       "<pre>recommendations finished on 324000/478176 queries. users per second: 19286.2</pre>"
      ],
      "text/plain": [
       "recommendations finished on 324000/478176 queries. users per second: 19286.2"
      ]
     },
     "metadata": {},
     "output_type": "display_data"
    },
    {
     "data": {
      "text/html": [
       "<pre>recommendations finished on 325000/478176 queries. users per second: 19284.8</pre>"
      ],
      "text/plain": [
       "recommendations finished on 325000/478176 queries. users per second: 19284.8"
      ]
     },
     "metadata": {},
     "output_type": "display_data"
    },
    {
     "data": {
      "text/html": [
       "<pre>recommendations finished on 326000/478176 queries. users per second: 19284.6</pre>"
      ],
      "text/plain": [
       "recommendations finished on 326000/478176 queries. users per second: 19284.6"
      ]
     },
     "metadata": {},
     "output_type": "display_data"
    },
    {
     "data": {
      "text/html": [
       "<pre>recommendations finished on 327000/478176 queries. users per second: 19283.3</pre>"
      ],
      "text/plain": [
       "recommendations finished on 327000/478176 queries. users per second: 19283.3"
      ]
     },
     "metadata": {},
     "output_type": "display_data"
    },
    {
     "data": {
      "text/html": [
       "<pre>recommendations finished on 328000/478176 queries. users per second: 19276.2</pre>"
      ],
      "text/plain": [
       "recommendations finished on 328000/478176 queries. users per second: 19276.2"
      ]
     },
     "metadata": {},
     "output_type": "display_data"
    },
    {
     "data": {
      "text/html": [
       "<pre>recommendations finished on 329000/478176 queries. users per second: 19274.9</pre>"
      ],
      "text/plain": [
       "recommendations finished on 329000/478176 queries. users per second: 19274.9"
      ]
     },
     "metadata": {},
     "output_type": "display_data"
    },
    {
     "data": {
      "text/html": [
       "<pre>recommendations finished on 330000/478176 queries. users per second: 19275.9</pre>"
      ],
      "text/plain": [
       "recommendations finished on 330000/478176 queries. users per second: 19275.9"
      ]
     },
     "metadata": {},
     "output_type": "display_data"
    },
    {
     "data": {
      "text/html": [
       "<pre>recommendations finished on 331000/478176 queries. users per second: 19276.8</pre>"
      ],
      "text/plain": [
       "recommendations finished on 331000/478176 queries. users per second: 19276.8"
      ]
     },
     "metadata": {},
     "output_type": "display_data"
    },
    {
     "data": {
      "text/html": [
       "<pre>recommendations finished on 332000/478176 queries. users per second: 19266.6</pre>"
      ],
      "text/plain": [
       "recommendations finished on 332000/478176 queries. users per second: 19266.6"
      ]
     },
     "metadata": {},
     "output_type": "display_data"
    },
    {
     "data": {
      "text/html": [
       "<pre>recommendations finished on 333000/478176 queries. users per second: 19264.2</pre>"
      ],
      "text/plain": [
       "recommendations finished on 333000/478176 queries. users per second: 19264.2"
      ]
     },
     "metadata": {},
     "output_type": "display_data"
    },
    {
     "data": {
      "text/html": [
       "<pre>recommendations finished on 334000/478176 queries. users per second: 19265.2</pre>"
      ],
      "text/plain": [
       "recommendations finished on 334000/478176 queries. users per second: 19265.2"
      ]
     },
     "metadata": {},
     "output_type": "display_data"
    },
    {
     "data": {
      "text/html": [
       "<pre>recommendations finished on 335000/478176 queries. users per second: 19266.1</pre>"
      ],
      "text/plain": [
       "recommendations finished on 335000/478176 queries. users per second: 19266.1"
      ]
     },
     "metadata": {},
     "output_type": "display_data"
    },
    {
     "data": {
      "text/html": [
       "<pre>recommendations finished on 336000/478176 queries. users per second: 19266</pre>"
      ],
      "text/plain": [
       "recommendations finished on 336000/478176 queries. users per second: 19266"
      ]
     },
     "metadata": {},
     "output_type": "display_data"
    },
    {
     "data": {
      "text/html": [
       "<pre>recommendations finished on 337000/478176 queries. users per second: 19265.8</pre>"
      ],
      "text/plain": [
       "recommendations finished on 337000/478176 queries. users per second: 19265.8"
      ]
     },
     "metadata": {},
     "output_type": "display_data"
    },
    {
     "data": {
      "text/html": [
       "<pre>recommendations finished on 338000/478176 queries. users per second: 19266.2</pre>"
      ],
      "text/plain": [
       "recommendations finished on 338000/478176 queries. users per second: 19266.2"
      ]
     },
     "metadata": {},
     "output_type": "display_data"
    },
    {
     "data": {
      "text/html": [
       "<pre>recommendations finished on 339000/478176 queries. users per second: 19268.2</pre>"
      ],
      "text/plain": [
       "recommendations finished on 339000/478176 queries. users per second: 19268.2"
      ]
     },
     "metadata": {},
     "output_type": "display_data"
    },
    {
     "data": {
      "text/html": [
       "<pre>recommendations finished on 340000/478176 queries. users per second: 19265.2</pre>"
      ],
      "text/plain": [
       "recommendations finished on 340000/478176 queries. users per second: 19265.2"
      ]
     },
     "metadata": {},
     "output_type": "display_data"
    },
    {
     "data": {
      "text/html": [
       "<pre>recommendations finished on 341000/478176 queries. users per second: 19265</pre>"
      ],
      "text/plain": [
       "recommendations finished on 341000/478176 queries. users per second: 19265"
      ]
     },
     "metadata": {},
     "output_type": "display_data"
    },
    {
     "data": {
      "text/html": [
       "<pre>recommendations finished on 342000/478176 queries. users per second: 19264.9</pre>"
      ],
      "text/plain": [
       "recommendations finished on 342000/478176 queries. users per second: 19264.9"
      ]
     },
     "metadata": {},
     "output_type": "display_data"
    },
    {
     "data": {
      "text/html": [
       "<pre>recommendations finished on 343000/478176 queries. users per second: 19265.2</pre>"
      ],
      "text/plain": [
       "recommendations finished on 343000/478176 queries. users per second: 19265.2"
      ]
     },
     "metadata": {},
     "output_type": "display_data"
    },
    {
     "data": {
      "text/html": [
       "<pre>recommendations finished on 344000/478176 queries. users per second: 19261.8</pre>"
      ],
      "text/plain": [
       "recommendations finished on 344000/478176 queries. users per second: 19261.8"
      ]
     },
     "metadata": {},
     "output_type": "display_data"
    },
    {
     "data": {
      "text/html": [
       "<pre>recommendations finished on 345000/478176 queries. users per second: 19262.8</pre>"
      ],
      "text/plain": [
       "recommendations finished on 345000/478176 queries. users per second: 19262.8"
      ]
     },
     "metadata": {},
     "output_type": "display_data"
    },
    {
     "data": {
      "text/html": [
       "<pre>recommendations finished on 346000/478176 queries. users per second: 19256</pre>"
      ],
      "text/plain": [
       "recommendations finished on 346000/478176 queries. users per second: 19256"
      ]
     },
     "metadata": {},
     "output_type": "display_data"
    },
    {
     "data": {
      "text/html": [
       "<pre>recommendations finished on 347000/478176 queries. users per second: 19249.4</pre>"
      ],
      "text/plain": [
       "recommendations finished on 347000/478176 queries. users per second: 19249.4"
      ]
     },
     "metadata": {},
     "output_type": "display_data"
    },
    {
     "data": {
      "text/html": [
       "<pre>recommendations finished on 348000/478176 queries. users per second: 19248.8</pre>"
      ],
      "text/plain": [
       "recommendations finished on 348000/478176 queries. users per second: 19248.8"
      ]
     },
     "metadata": {},
     "output_type": "display_data"
    },
    {
     "data": {
      "text/html": [
       "<pre>recommendations finished on 349000/478176 queries. users per second: 19248.7</pre>"
      ],
      "text/plain": [
       "recommendations finished on 349000/478176 queries. users per second: 19248.7"
      ]
     },
     "metadata": {},
     "output_type": "display_data"
    },
    {
     "data": {
      "text/html": [
       "<pre>recommendations finished on 350000/478176 queries. users per second: 19248.6</pre>"
      ],
      "text/plain": [
       "recommendations finished on 350000/478176 queries. users per second: 19248.6"
      ]
     },
     "metadata": {},
     "output_type": "display_data"
    },
    {
     "data": {
      "text/html": [
       "<pre>recommendations finished on 351000/478176 queries. users per second: 19246.4</pre>"
      ],
      "text/plain": [
       "recommendations finished on 351000/478176 queries. users per second: 19246.4"
      ]
     },
     "metadata": {},
     "output_type": "display_data"
    },
    {
     "data": {
      "text/html": [
       "<pre>recommendations finished on 352000/478176 queries. users per second: 19247.3</pre>"
      ],
      "text/plain": [
       "recommendations finished on 352000/478176 queries. users per second: 19247.3"
      ]
     },
     "metadata": {},
     "output_type": "display_data"
    },
    {
     "data": {
      "text/html": [
       "<pre>recommendations finished on 353000/478176 queries. users per second: 19245.2</pre>"
      ],
      "text/plain": [
       "recommendations finished on 353000/478176 queries. users per second: 19245.2"
      ]
     },
     "metadata": {},
     "output_type": "display_data"
    },
    {
     "data": {
      "text/html": [
       "<pre>recommendations finished on 354000/478176 queries. users per second: 19246.1</pre>"
      ],
      "text/plain": [
       "recommendations finished on 354000/478176 queries. users per second: 19246.1"
      ]
     },
     "metadata": {},
     "output_type": "display_data"
    },
    {
     "data": {
      "text/html": [
       "<pre>recommendations finished on 355000/478176 queries. users per second: 19249.1</pre>"
      ],
      "text/plain": [
       "recommendations finished on 355000/478176 queries. users per second: 19249.1"
      ]
     },
     "metadata": {},
     "output_type": "display_data"
    },
    {
     "data": {
      "text/html": [
       "<pre>recommendations finished on 356000/478176 queries. users per second: 19244</pre>"
      ],
      "text/plain": [
       "recommendations finished on 356000/478176 queries. users per second: 19244"
      ]
     },
     "metadata": {},
     "output_type": "display_data"
    },
    {
     "data": {
      "text/html": [
       "<pre>recommendations finished on 357000/478176 queries. users per second: 19241.9</pre>"
      ],
      "text/plain": [
       "recommendations finished on 357000/478176 queries. users per second: 19241.9"
      ]
     },
     "metadata": {},
     "output_type": "display_data"
    },
    {
     "data": {
      "text/html": [
       "<pre>recommendations finished on 358000/478176 queries. users per second: 19238.7</pre>"
      ],
      "text/plain": [
       "recommendations finished on 358000/478176 queries. users per second: 19238.7"
      ]
     },
     "metadata": {},
     "output_type": "display_data"
    },
    {
     "data": {
      "text/html": [
       "<pre>recommendations finished on 359000/478176 queries. users per second: 19240</pre>"
      ],
      "text/plain": [
       "recommendations finished on 359000/478176 queries. users per second: 19240"
      ]
     },
     "metadata": {},
     "output_type": "display_data"
    },
    {
     "data": {
      "text/html": [
       "<pre>recommendations finished on 360000/478176 queries. users per second: 19237.8</pre>"
      ],
      "text/plain": [
       "recommendations finished on 360000/478176 queries. users per second: 19237.8"
      ]
     },
     "metadata": {},
     "output_type": "display_data"
    },
    {
     "data": {
      "text/html": [
       "<pre>recommendations finished on 361000/478176 queries. users per second: 19236.7</pre>"
      ],
      "text/plain": [
       "recommendations finished on 361000/478176 queries. users per second: 19236.7"
      ]
     },
     "metadata": {},
     "output_type": "display_data"
    },
    {
     "data": {
      "text/html": [
       "<pre>recommendations finished on 362000/478176 queries. users per second: 19235.6</pre>"
      ],
      "text/plain": [
       "recommendations finished on 362000/478176 queries. users per second: 19235.6"
      ]
     },
     "metadata": {},
     "output_type": "display_data"
    },
    {
     "data": {
      "text/html": [
       "<pre>recommendations finished on 363000/478176 queries. users per second: 19234.6</pre>"
      ],
      "text/plain": [
       "recommendations finished on 363000/478176 queries. users per second: 19234.6"
      ]
     },
     "metadata": {},
     "output_type": "display_data"
    },
    {
     "data": {
      "text/html": [
       "<pre>recommendations finished on 364000/478176 queries. users per second: 19235.5</pre>"
      ],
      "text/plain": [
       "recommendations finished on 364000/478176 queries. users per second: 19235.5"
      ]
     },
     "metadata": {},
     "output_type": "display_data"
    },
    {
     "data": {
      "text/html": [
       "<pre>recommendations finished on 365000/478176 queries. users per second: 19231.9</pre>"
      ],
      "text/plain": [
       "recommendations finished on 365000/478176 queries. users per second: 19231.9"
      ]
     },
     "metadata": {},
     "output_type": "display_data"
    },
    {
     "data": {
      "text/html": [
       "<pre>recommendations finished on 366000/478176 queries. users per second: 19226.8</pre>"
      ],
      "text/plain": [
       "recommendations finished on 366000/478176 queries. users per second: 19226.8"
      ]
     },
     "metadata": {},
     "output_type": "display_data"
    },
    {
     "data": {
      "text/html": [
       "<pre>recommendations finished on 367000/478176 queries. users per second: 19226.8</pre>"
      ],
      "text/plain": [
       "recommendations finished on 367000/478176 queries. users per second: 19226.8"
      ]
     },
     "metadata": {},
     "output_type": "display_data"
    },
    {
     "data": {
      "text/html": [
       "<pre>recommendations finished on 368000/478176 queries. users per second: 19226.8</pre>"
      ],
      "text/plain": [
       "recommendations finished on 368000/478176 queries. users per second: 19226.8"
      ]
     },
     "metadata": {},
     "output_type": "display_data"
    },
    {
     "data": {
      "text/html": [
       "<pre>recommendations finished on 369000/478176 queries. users per second: 19226.7</pre>"
      ],
      "text/plain": [
       "recommendations finished on 369000/478176 queries. users per second: 19226.7"
      ]
     },
     "metadata": {},
     "output_type": "display_data"
    },
    {
     "data": {
      "text/html": [
       "<pre>recommendations finished on 370000/478176 queries. users per second: 19228.6</pre>"
      ],
      "text/plain": [
       "recommendations finished on 370000/478176 queries. users per second: 19228.6"
      ]
     },
     "metadata": {},
     "output_type": "display_data"
    },
    {
     "data": {
      "text/html": [
       "<pre>recommendations finished on 371000/478176 queries. users per second: 19222.8</pre>"
      ],
      "text/plain": [
       "recommendations finished on 371000/478176 queries. users per second: 19222.8"
      ]
     },
     "metadata": {},
     "output_type": "display_data"
    },
    {
     "data": {
      "text/html": [
       "<pre>recommendations finished on 372000/478176 queries. users per second: 19222.8</pre>"
      ],
      "text/plain": [
       "recommendations finished on 372000/478176 queries. users per second: 19222.8"
      ]
     },
     "metadata": {},
     "output_type": "display_data"
    },
    {
     "data": {
      "text/html": [
       "<pre>recommendations finished on 373000/478176 queries. users per second: 19222.8</pre>"
      ],
      "text/plain": [
       "recommendations finished on 373000/478176 queries. users per second: 19222.8"
      ]
     },
     "metadata": {},
     "output_type": "display_data"
    },
    {
     "data": {
      "text/html": [
       "<pre>recommendations finished on 374000/478176 queries. users per second: 19221.5</pre>"
      ],
      "text/plain": [
       "recommendations finished on 374000/478176 queries. users per second: 19221.5"
      ]
     },
     "metadata": {},
     "output_type": "display_data"
    },
    {
     "data": {
      "text/html": [
       "<pre>recommendations finished on 375000/478176 queries. users per second: 19223.7</pre>"
      ],
      "text/plain": [
       "recommendations finished on 375000/478176 queries. users per second: 19223.7"
      ]
     },
     "metadata": {},
     "output_type": "display_data"
    },
    {
     "data": {
      "text/html": [
       "<pre>recommendations finished on 376000/478176 queries. users per second: 19221.7</pre>"
      ],
      "text/plain": [
       "recommendations finished on 376000/478176 queries. users per second: 19221.7"
      ]
     },
     "metadata": {},
     "output_type": "display_data"
    },
    {
     "data": {
      "text/html": [
       "<pre>recommendations finished on 377000/478176 queries. users per second: 19219.7</pre>"
      ],
      "text/plain": [
       "recommendations finished on 377000/478176 queries. users per second: 19219.7"
      ]
     },
     "metadata": {},
     "output_type": "display_data"
    },
    {
     "data": {
      "text/html": [
       "<pre>recommendations finished on 378000/478176 queries. users per second: 19219.4</pre>"
      ],
      "text/plain": [
       "recommendations finished on 378000/478176 queries. users per second: 19219.4"
      ]
     },
     "metadata": {},
     "output_type": "display_data"
    },
    {
     "data": {
      "text/html": [
       "<pre>recommendations finished on 379000/478176 queries. users per second: 19219.4</pre>"
      ],
      "text/plain": [
       "recommendations finished on 379000/478176 queries. users per second: 19219.4"
      ]
     },
     "metadata": {},
     "output_type": "display_data"
    },
    {
     "data": {
      "text/html": [
       "<pre>recommendations finished on 380000/478176 queries. users per second: 19219.4</pre>"
      ],
      "text/plain": [
       "recommendations finished on 380000/478176 queries. users per second: 19219.4"
      ]
     },
     "metadata": {},
     "output_type": "display_data"
    },
    {
     "data": {
      "text/html": [
       "<pre>recommendations finished on 381000/478176 queries. users per second: 19218.4</pre>"
      ],
      "text/plain": [
       "recommendations finished on 381000/478176 queries. users per second: 19218.4"
      ]
     },
     "metadata": {},
     "output_type": "display_data"
    },
    {
     "data": {
      "text/html": [
       "<pre>recommendations finished on 382000/478176 queries. users per second: 19220</pre>"
      ],
      "text/plain": [
       "recommendations finished on 382000/478176 queries. users per second: 19220"
      ]
     },
     "metadata": {},
     "output_type": "display_data"
    },
    {
     "data": {
      "text/html": [
       "<pre>recommendations finished on 383000/478176 queries. users per second: 19221.4</pre>"
      ],
      "text/plain": [
       "recommendations finished on 383000/478176 queries. users per second: 19221.4"
      ]
     },
     "metadata": {},
     "output_type": "display_data"
    },
    {
     "data": {
      "text/html": [
       "<pre>recommendations finished on 384000/478176 queries. users per second: 19213.7</pre>"
      ],
      "text/plain": [
       "recommendations finished on 384000/478176 queries. users per second: 19213.7"
      ]
     },
     "metadata": {},
     "output_type": "display_data"
    },
    {
     "data": {
      "text/html": [
       "<pre>recommendations finished on 385000/478176 queries. users per second: 19209.8</pre>"
      ],
      "text/plain": [
       "recommendations finished on 385000/478176 queries. users per second: 19209.8"
      ]
     },
     "metadata": {},
     "output_type": "display_data"
    },
    {
     "data": {
      "text/html": [
       "<pre>recommendations finished on 386000/478176 queries. users per second: 19203.4</pre>"
      ],
      "text/plain": [
       "recommendations finished on 386000/478176 queries. users per second: 19203.4"
      ]
     },
     "metadata": {},
     "output_type": "display_data"
    },
    {
     "data": {
      "text/html": [
       "<pre>recommendations finished on 387000/478176 queries. users per second: 19202.5</pre>"
      ],
      "text/plain": [
       "recommendations finished on 387000/478176 queries. users per second: 19202.5"
      ]
     },
     "metadata": {},
     "output_type": "display_data"
    },
    {
     "data": {
      "text/html": [
       "<pre>recommendations finished on 388000/478176 queries. users per second: 19201.6</pre>"
      ],
      "text/plain": [
       "recommendations finished on 388000/478176 queries. users per second: 19201.6"
      ]
     },
     "metadata": {},
     "output_type": "display_data"
    },
    {
     "data": {
      "text/html": [
       "<pre>recommendations finished on 389000/478176 queries. users per second: 19201.5</pre>"
      ],
      "text/plain": [
       "recommendations finished on 389000/478176 queries. users per second: 19201.5"
      ]
     },
     "metadata": {},
     "output_type": "display_data"
    },
    {
     "data": {
      "text/html": [
       "<pre>recommendations finished on 390000/478176 queries. users per second: 19198.3</pre>"
      ],
      "text/plain": [
       "recommendations finished on 390000/478176 queries. users per second: 19198.3"
      ]
     },
     "metadata": {},
     "output_type": "display_data"
    },
    {
     "data": {
      "text/html": [
       "<pre>recommendations finished on 391000/478176 queries. users per second: 19198.3</pre>"
      ],
      "text/plain": [
       "recommendations finished on 391000/478176 queries. users per second: 19198.3"
      ]
     },
     "metadata": {},
     "output_type": "display_data"
    },
    {
     "data": {
      "text/html": [
       "<pre>recommendations finished on 392000/478176 queries. users per second: 19198.4</pre>"
      ],
      "text/plain": [
       "recommendations finished on 392000/478176 queries. users per second: 19198.4"
      ]
     },
     "metadata": {},
     "output_type": "display_data"
    },
    {
     "data": {
      "text/html": [
       "<pre>recommendations finished on 393000/478176 queries. users per second: 19195.6</pre>"
      ],
      "text/plain": [
       "recommendations finished on 393000/478176 queries. users per second: 19195.6"
      ]
     },
     "metadata": {},
     "output_type": "display_data"
    },
    {
     "data": {
      "text/html": [
       "<pre>recommendations finished on 394000/478176 queries. users per second: 19195.6</pre>"
      ],
      "text/plain": [
       "recommendations finished on 394000/478176 queries. users per second: 19195.6"
      ]
     },
     "metadata": {},
     "output_type": "display_data"
    },
    {
     "data": {
      "text/html": [
       "<pre>recommendations finished on 395000/478176 queries. users per second: 19197.5</pre>"
      ],
      "text/plain": [
       "recommendations finished on 395000/478176 queries. users per second: 19197.5"
      ]
     },
     "metadata": {},
     "output_type": "display_data"
    },
    {
     "data": {
      "text/html": [
       "<pre>recommendations finished on 396000/478176 queries. users per second: 19194.3</pre>"
      ],
      "text/plain": [
       "recommendations finished on 396000/478176 queries. users per second: 19194.3"
      ]
     },
     "metadata": {},
     "output_type": "display_data"
    },
    {
     "data": {
      "text/html": [
       "<pre>recommendations finished on 397000/478176 queries. users per second: 19186</pre>"
      ],
      "text/plain": [
       "recommendations finished on 397000/478176 queries. users per second: 19186"
      ]
     },
     "metadata": {},
     "output_type": "display_data"
    },
    {
     "data": {
      "text/html": [
       "<pre>recommendations finished on 398000/478176 queries. users per second: 19187.9</pre>"
      ],
      "text/plain": [
       "recommendations finished on 398000/478176 queries. users per second: 19187.9"
      ]
     },
     "metadata": {},
     "output_type": "display_data"
    },
    {
     "data": {
      "text/html": [
       "<pre>recommendations finished on 399000/478176 queries. users per second: 19186.3</pre>"
      ],
      "text/plain": [
       "recommendations finished on 399000/478176 queries. users per second: 19186.3"
      ]
     },
     "metadata": {},
     "output_type": "display_data"
    },
    {
     "data": {
      "text/html": [
       "<pre>recommendations finished on 400000/478176 queries. users per second: 19186.4</pre>"
      ],
      "text/plain": [
       "recommendations finished on 400000/478176 queries. users per second: 19186.4"
      ]
     },
     "metadata": {},
     "output_type": "display_data"
    },
    {
     "data": {
      "text/html": [
       "<pre>recommendations finished on 401000/478176 queries. users per second: 19186.5</pre>"
      ],
      "text/plain": [
       "recommendations finished on 401000/478176 queries. users per second: 19186.5"
      ]
     },
     "metadata": {},
     "output_type": "display_data"
    },
    {
     "data": {
      "text/html": [
       "<pre>recommendations finished on 402000/478176 queries. users per second: 19187.5</pre>"
      ],
      "text/plain": [
       "recommendations finished on 402000/478176 queries. users per second: 19187.5"
      ]
     },
     "metadata": {},
     "output_type": "display_data"
    },
    {
     "data": {
      "text/html": [
       "<pre>recommendations finished on 403000/478176 queries. users per second: 19182.9</pre>"
      ],
      "text/plain": [
       "recommendations finished on 403000/478176 queries. users per second: 19182.9"
      ]
     },
     "metadata": {},
     "output_type": "display_data"
    },
    {
     "data": {
      "text/html": [
       "<pre>recommendations finished on 404000/478176 queries. users per second: 19184.9</pre>"
      ],
      "text/plain": [
       "recommendations finished on 404000/478176 queries. users per second: 19184.9"
      ]
     },
     "metadata": {},
     "output_type": "display_data"
    },
    {
     "data": {
      "text/html": [
       "<pre>recommendations finished on 405000/478176 queries. users per second: 19181.2</pre>"
      ],
      "text/plain": [
       "recommendations finished on 405000/478176 queries. users per second: 19181.2"
      ]
     },
     "metadata": {},
     "output_type": "display_data"
    },
    {
     "data": {
      "text/html": [
       "<pre>recommendations finished on 406000/478176 queries. users per second: 19181.3</pre>"
      ],
      "text/plain": [
       "recommendations finished on 406000/478176 queries. users per second: 19181.3"
      ]
     },
     "metadata": {},
     "output_type": "display_data"
    },
    {
     "data": {
      "text/html": [
       "<pre>recommendations finished on 407000/478176 queries. users per second: 19181.4</pre>"
      ],
      "text/plain": [
       "recommendations finished on 407000/478176 queries. users per second: 19181.4"
      ]
     },
     "metadata": {},
     "output_type": "display_data"
    },
    {
     "data": {
      "text/html": [
       "<pre>recommendations finished on 408000/478176 queries. users per second: 19182.4</pre>"
      ],
      "text/plain": [
       "recommendations finished on 408000/478176 queries. users per second: 19182.4"
      ]
     },
     "metadata": {},
     "output_type": "display_data"
    },
    {
     "data": {
      "text/html": [
       "<pre>recommendations finished on 409000/478176 queries. users per second: 19194.1</pre>"
      ],
      "text/plain": [
       "recommendations finished on 409000/478176 queries. users per second: 19194.1"
      ]
     },
     "metadata": {},
     "output_type": "display_data"
    },
    {
     "data": {
      "text/html": [
       "<pre>recommendations finished on 410000/478176 queries. users per second: 19181.6</pre>"
      ],
      "text/plain": [
       "recommendations finished on 410000/478176 queries. users per second: 19181.6"
      ]
     },
     "metadata": {},
     "output_type": "display_data"
    },
    {
     "data": {
      "text/html": [
       "<pre>recommendations finished on 411000/478176 queries. users per second: 19181.7</pre>"
      ],
      "text/plain": [
       "recommendations finished on 411000/478176 queries. users per second: 19181.7"
      ]
     },
     "metadata": {},
     "output_type": "display_data"
    },
    {
     "data": {
      "text/html": [
       "<pre>recommendations finished on 412000/478176 queries. users per second: 19182.7</pre>"
      ],
      "text/plain": [
       "recommendations finished on 412000/478176 queries. users per second: 19182.7"
      ]
     },
     "metadata": {},
     "output_type": "display_data"
    },
    {
     "data": {
      "text/html": [
       "<pre>recommendations finished on 413000/478176 queries. users per second: 19181.9</pre>"
      ],
      "text/plain": [
       "recommendations finished on 413000/478176 queries. users per second: 19181.9"
      ]
     },
     "metadata": {},
     "output_type": "display_data"
    },
    {
     "data": {
      "text/html": [
       "<pre>recommendations finished on 414000/478176 queries. users per second: 19182.8</pre>"
      ],
      "text/plain": [
       "recommendations finished on 414000/478176 queries. users per second: 19182.8"
      ]
     },
     "metadata": {},
     "output_type": "display_data"
    },
    {
     "data": {
      "text/html": [
       "<pre>recommendations finished on 415000/478176 queries. users per second: 19182.9</pre>"
      ],
      "text/plain": [
       "recommendations finished on 415000/478176 queries. users per second: 19182.9"
      ]
     },
     "metadata": {},
     "output_type": "display_data"
    },
    {
     "data": {
      "text/html": [
       "<pre>recommendations finished on 416000/478176 queries. users per second: 19183</pre>"
      ],
      "text/plain": [
       "recommendations finished on 416000/478176 queries. users per second: 19183"
      ]
     },
     "metadata": {},
     "output_type": "display_data"
    },
    {
     "data": {
      "text/html": [
       "<pre>recommendations finished on 417000/478176 queries. users per second: 19183.1</pre>"
      ],
      "text/plain": [
       "recommendations finished on 417000/478176 queries. users per second: 19183.1"
      ]
     },
     "metadata": {},
     "output_type": "display_data"
    },
    {
     "data": {
      "text/html": [
       "<pre>recommendations finished on 418000/478176 queries. users per second: 19184.8</pre>"
      ],
      "text/plain": [
       "recommendations finished on 418000/478176 queries. users per second: 19184.8"
      ]
     },
     "metadata": {},
     "output_type": "display_data"
    },
    {
     "data": {
      "text/html": [
       "<pre>recommendations finished on 419000/478176 queries. users per second: 19183.2</pre>"
      ],
      "text/plain": [
       "recommendations finished on 419000/478176 queries. users per second: 19183.2"
      ]
     },
     "metadata": {},
     "output_type": "display_data"
    },
    {
     "data": {
      "text/html": [
       "<pre>recommendations finished on 420000/478176 queries. users per second: 19183.3</pre>"
      ],
      "text/plain": [
       "recommendations finished on 420000/478176 queries. users per second: 19183.3"
      ]
     },
     "metadata": {},
     "output_type": "display_data"
    },
    {
     "data": {
      "text/html": [
       "<pre>recommendations finished on 421000/478176 queries. users per second: 19179</pre>"
      ],
      "text/plain": [
       "recommendations finished on 421000/478176 queries. users per second: 19179"
      ]
     },
     "metadata": {},
     "output_type": "display_data"
    },
    {
     "data": {
      "text/html": [
       "<pre>recommendations finished on 422000/478176 queries. users per second: 19174.7</pre>"
      ],
      "text/plain": [
       "recommendations finished on 422000/478176 queries. users per second: 19174.7"
      ]
     },
     "metadata": {},
     "output_type": "display_data"
    },
    {
     "data": {
      "text/html": [
       "<pre>recommendations finished on 423000/478176 queries. users per second: 19168.2</pre>"
      ],
      "text/plain": [
       "recommendations finished on 423000/478176 queries. users per second: 19168.2"
      ]
     },
     "metadata": {},
     "output_type": "display_data"
    },
    {
     "data": {
      "text/html": [
       "<pre>recommendations finished on 424000/478176 queries. users per second: 19166.6</pre>"
      ],
      "text/plain": [
       "recommendations finished on 424000/478176 queries. users per second: 19166.6"
      ]
     },
     "metadata": {},
     "output_type": "display_data"
    },
    {
     "data": {
      "text/html": [
       "<pre>recommendations finished on 425000/478176 queries. users per second: 19166.5</pre>"
      ],
      "text/plain": [
       "recommendations finished on 425000/478176 queries. users per second: 19166.5"
      ]
     },
     "metadata": {},
     "output_type": "display_data"
    },
    {
     "data": {
      "text/html": [
       "<pre>recommendations finished on 426000/478176 queries. users per second: 19167.8</pre>"
      ],
      "text/plain": [
       "recommendations finished on 426000/478176 queries. users per second: 19167.8"
      ]
     },
     "metadata": {},
     "output_type": "display_data"
    },
    {
     "data": {
      "text/html": [
       "<pre>recommendations finished on 427000/478176 queries. users per second: 19165.7</pre>"
      ],
      "text/plain": [
       "recommendations finished on 427000/478176 queries. users per second: 19165.7"
      ]
     },
     "metadata": {},
     "output_type": "display_data"
    },
    {
     "data": {
      "text/html": [
       "<pre>recommendations finished on 428000/478176 queries. users per second: 19165.8</pre>"
      ],
      "text/plain": [
       "recommendations finished on 428000/478176 queries. users per second: 19165.8"
      ]
     },
     "metadata": {},
     "output_type": "display_data"
    },
    {
     "data": {
      "text/html": [
       "<pre>recommendations finished on 429000/478176 queries. users per second: 19161.6</pre>"
      ],
      "text/plain": [
       "recommendations finished on 429000/478176 queries. users per second: 19161.6"
      ]
     },
     "metadata": {},
     "output_type": "display_data"
    },
    {
     "data": {
      "text/html": [
       "<pre>recommendations finished on 430000/478176 queries. users per second: 19160</pre>"
      ],
      "text/plain": [
       "recommendations finished on 430000/478176 queries. users per second: 19160"
      ]
     },
     "metadata": {},
     "output_type": "display_data"
    },
    {
     "data": {
      "text/html": [
       "<pre>recommendations finished on 431000/478176 queries. users per second: 19158.5</pre>"
      ],
      "text/plain": [
       "recommendations finished on 431000/478176 queries. users per second: 19158.5"
      ]
     },
     "metadata": {},
     "output_type": "display_data"
    },
    {
     "data": {
      "text/html": [
       "<pre>recommendations finished on 432000/478176 queries. users per second: 19158.6</pre>"
      ],
      "text/plain": [
       "recommendations finished on 432000/478176 queries. users per second: 19158.6"
      ]
     },
     "metadata": {},
     "output_type": "display_data"
    },
    {
     "data": {
      "text/html": [
       "<pre>recommendations finished on 433000/478176 queries. users per second: 19157</pre>"
      ],
      "text/plain": [
       "recommendations finished on 433000/478176 queries. users per second: 19157"
      ]
     },
     "metadata": {},
     "output_type": "display_data"
    },
    {
     "data": {
      "text/html": [
       "<pre>recommendations finished on 434000/478176 queries. users per second: 19158</pre>"
      ],
      "text/plain": [
       "recommendations finished on 434000/478176 queries. users per second: 19158"
      ]
     },
     "metadata": {},
     "output_type": "display_data"
    },
    {
     "data": {
      "text/html": [
       "<pre>recommendations finished on 435000/478176 queries. users per second: 19158.2</pre>"
      ],
      "text/plain": [
       "recommendations finished on 435000/478176 queries. users per second: 19158.2"
      ]
     },
     "metadata": {},
     "output_type": "display_data"
    },
    {
     "data": {
      "text/html": [
       "<pre>recommendations finished on 436000/478176 queries. users per second: 19158.8</pre>"
      ],
      "text/plain": [
       "recommendations finished on 436000/478176 queries. users per second: 19158.8"
      ]
     },
     "metadata": {},
     "output_type": "display_data"
    },
    {
     "data": {
      "text/html": [
       "<pre>recommendations finished on 437000/478176 queries. users per second: 19158.6</pre>"
      ],
      "text/plain": [
       "recommendations finished on 437000/478176 queries. users per second: 19158.6"
      ]
     },
     "metadata": {},
     "output_type": "display_data"
    },
    {
     "data": {
      "text/html": [
       "<pre>recommendations finished on 438000/478176 queries. users per second: 19159.5</pre>"
      ],
      "text/plain": [
       "recommendations finished on 438000/478176 queries. users per second: 19159.5"
      ]
     },
     "metadata": {},
     "output_type": "display_data"
    },
    {
     "data": {
      "text/html": [
       "<pre>recommendations finished on 439000/478176 queries. users per second: 19158</pre>"
      ],
      "text/plain": [
       "recommendations finished on 439000/478176 queries. users per second: 19158"
      ]
     },
     "metadata": {},
     "output_type": "display_data"
    },
    {
     "data": {
      "text/html": [
       "<pre>recommendations finished on 440000/478176 queries. users per second: 19154.8</pre>"
      ],
      "text/plain": [
       "recommendations finished on 440000/478176 queries. users per second: 19154.8"
      ]
     },
     "metadata": {},
     "output_type": "display_data"
    },
    {
     "data": {
      "text/html": [
       "<pre>recommendations finished on 441000/478176 queries. users per second: 19153.6</pre>"
      ],
      "text/plain": [
       "recommendations finished on 441000/478176 queries. users per second: 19153.6"
      ]
     },
     "metadata": {},
     "output_type": "display_data"
    },
    {
     "data": {
      "text/html": [
       "<pre>recommendations finished on 442000/478176 queries. users per second: 19149.9</pre>"
      ],
      "text/plain": [
       "recommendations finished on 442000/478176 queries. users per second: 19149.9"
      ]
     },
     "metadata": {},
     "output_type": "display_data"
    },
    {
     "data": {
      "text/html": [
       "<pre>recommendations finished on 443000/478176 queries. users per second: 19150.8</pre>"
      ],
      "text/plain": [
       "recommendations finished on 443000/478176 queries. users per second: 19150.8"
      ]
     },
     "metadata": {},
     "output_type": "display_data"
    },
    {
     "data": {
      "text/html": [
       "<pre>recommendations finished on 444000/478176 queries. users per second: 19150.2</pre>"
      ],
      "text/plain": [
       "recommendations finished on 444000/478176 queries. users per second: 19150.2"
      ]
     },
     "metadata": {},
     "output_type": "display_data"
    },
    {
     "data": {
      "text/html": [
       "<pre>recommendations finished on 445000/478176 queries. users per second: 19149.5</pre>"
      ],
      "text/plain": [
       "recommendations finished on 445000/478176 queries. users per second: 19149.5"
      ]
     },
     "metadata": {},
     "output_type": "display_data"
    },
    {
     "data": {
      "text/html": [
       "<pre>recommendations finished on 446000/478176 queries. users per second: 19150.4</pre>"
      ],
      "text/plain": [
       "recommendations finished on 446000/478176 queries. users per second: 19150.4"
      ]
     },
     "metadata": {},
     "output_type": "display_data"
    },
    {
     "data": {
      "text/html": [
       "<pre>recommendations finished on 447000/478176 queries. users per second: 19151.3</pre>"
      ],
      "text/plain": [
       "recommendations finished on 447000/478176 queries. users per second: 19151.3"
      ]
     },
     "metadata": {},
     "output_type": "display_data"
    },
    {
     "data": {
      "text/html": [
       "<pre>recommendations finished on 448000/478176 queries. users per second: 19150.4</pre>"
      ],
      "text/plain": [
       "recommendations finished on 448000/478176 queries. users per second: 19150.4"
      ]
     },
     "metadata": {},
     "output_type": "display_data"
    },
    {
     "data": {
      "text/html": [
       "<pre>recommendations finished on 449000/478176 queries. users per second: 19149.7</pre>"
      ],
      "text/plain": [
       "recommendations finished on 449000/478176 queries. users per second: 19149.7"
      ]
     },
     "metadata": {},
     "output_type": "display_data"
    },
    {
     "data": {
      "text/html": [
       "<pre>recommendations finished on 450000/478176 queries. users per second: 19150.7</pre>"
      ],
      "text/plain": [
       "recommendations finished on 450000/478176 queries. users per second: 19150.7"
      ]
     },
     "metadata": {},
     "output_type": "display_data"
    },
    {
     "data": {
      "text/html": [
       "<pre>recommendations finished on 451000/478176 queries. users per second: 19151.7</pre>"
      ],
      "text/plain": [
       "recommendations finished on 451000/478176 queries. users per second: 19151.7"
      ]
     },
     "metadata": {},
     "output_type": "display_data"
    },
    {
     "data": {
      "text/html": [
       "<pre>recommendations finished on 452000/478176 queries. users per second: 19150.2</pre>"
      ],
      "text/plain": [
       "recommendations finished on 452000/478176 queries. users per second: 19150.2"
      ]
     },
     "metadata": {},
     "output_type": "display_data"
    },
    {
     "data": {
      "text/html": [
       "<pre>recommendations finished on 453000/478176 queries. users per second: 19149.3</pre>"
      ],
      "text/plain": [
       "recommendations finished on 453000/478176 queries. users per second: 19149.3"
      ]
     },
     "metadata": {},
     "output_type": "display_data"
    },
    {
     "data": {
      "text/html": [
       "<pre>recommendations finished on 454000/478176 queries. users per second: 19150</pre>"
      ],
      "text/plain": [
       "recommendations finished on 454000/478176 queries. users per second: 19150"
      ]
     },
     "metadata": {},
     "output_type": "display_data"
    },
    {
     "data": {
      "text/html": [
       "<pre>recommendations finished on 455000/478176 queries. users per second: 19150.9</pre>"
      ],
      "text/plain": [
       "recommendations finished on 455000/478176 queries. users per second: 19150.9"
      ]
     },
     "metadata": {},
     "output_type": "display_data"
    },
    {
     "data": {
      "text/html": [
       "<pre>recommendations finished on 456000/478176 queries. users per second: 19149.5</pre>"
      ],
      "text/plain": [
       "recommendations finished on 456000/478176 queries. users per second: 19149.5"
      ]
     },
     "metadata": {},
     "output_type": "display_data"
    },
    {
     "data": {
      "text/html": [
       "<pre>recommendations finished on 457000/478176 queries. users per second: 19148.8</pre>"
      ],
      "text/plain": [
       "recommendations finished on 457000/478176 queries. users per second: 19148.8"
      ]
     },
     "metadata": {},
     "output_type": "display_data"
    },
    {
     "data": {
      "text/html": [
       "<pre>recommendations finished on 458000/478176 queries. users per second: 19149</pre>"
      ],
      "text/plain": [
       "recommendations finished on 458000/478176 queries. users per second: 19149"
      ]
     },
     "metadata": {},
     "output_type": "display_data"
    },
    {
     "data": {
      "text/html": [
       "<pre>recommendations finished on 459000/478176 queries. users per second: 19149.1</pre>"
      ],
      "text/plain": [
       "recommendations finished on 459000/478176 queries. users per second: 19149.1"
      ]
     },
     "metadata": {},
     "output_type": "display_data"
    },
    {
     "data": {
      "text/html": [
       "<pre>recommendations finished on 460000/478176 queries. users per second: 19147.7</pre>"
      ],
      "text/plain": [
       "recommendations finished on 460000/478176 queries. users per second: 19147.7"
      ]
     },
     "metadata": {},
     "output_type": "display_data"
    },
    {
     "data": {
      "text/html": [
       "<pre>recommendations finished on 461000/478176 queries. users per second: 19136.9</pre>"
      ],
      "text/plain": [
       "recommendations finished on 461000/478176 queries. users per second: 19136.9"
      ]
     },
     "metadata": {},
     "output_type": "display_data"
    },
    {
     "data": {
      "text/html": [
       "<pre>recommendations finished on 462000/478176 queries. users per second: 19125.4</pre>"
      ],
      "text/plain": [
       "recommendations finished on 462000/478176 queries. users per second: 19125.4"
      ]
     },
     "metadata": {},
     "output_type": "display_data"
    },
    {
     "data": {
      "text/html": [
       "<pre>recommendations finished on 463000/478176 queries. users per second: 19114.1</pre>"
      ],
      "text/plain": [
       "recommendations finished on 463000/478176 queries. users per second: 19114.1"
      ]
     },
     "metadata": {},
     "output_type": "display_data"
    },
    {
     "data": {
      "text/html": [
       "<pre>recommendations finished on 464000/478176 queries. users per second: 19102.5</pre>"
      ],
      "text/plain": [
       "recommendations finished on 464000/478176 queries. users per second: 19102.5"
      ]
     },
     "metadata": {},
     "output_type": "display_data"
    },
    {
     "data": {
      "text/html": [
       "<pre>recommendations finished on 465000/478176 queries. users per second: 19091.5</pre>"
      ],
      "text/plain": [
       "recommendations finished on 465000/478176 queries. users per second: 19091.5"
      ]
     },
     "metadata": {},
     "output_type": "display_data"
    },
    {
     "data": {
      "text/html": [
       "<pre>recommendations finished on 466000/478176 queries. users per second: 19067.5</pre>"
      ],
      "text/plain": [
       "recommendations finished on 466000/478176 queries. users per second: 19067.5"
      ]
     },
     "metadata": {},
     "output_type": "display_data"
    },
    {
     "data": {
      "text/html": [
       "<pre>recommendations finished on 467000/478176 queries. users per second: 19055.7</pre>"
      ],
      "text/plain": [
       "recommendations finished on 467000/478176 queries. users per second: 19055.7"
      ]
     },
     "metadata": {},
     "output_type": "display_data"
    },
    {
     "data": {
      "text/html": [
       "<pre>recommendations finished on 468000/478176 queries. users per second: 19045.5</pre>"
      ],
      "text/plain": [
       "recommendations finished on 468000/478176 queries. users per second: 19045.5"
      ]
     },
     "metadata": {},
     "output_type": "display_data"
    },
    {
     "data": {
      "text/html": [
       "<pre>recommendations finished on 469000/478176 queries. users per second: 19034.6</pre>"
      ],
      "text/plain": [
       "recommendations finished on 469000/478176 queries. users per second: 19034.6"
      ]
     },
     "metadata": {},
     "output_type": "display_data"
    },
    {
     "data": {
      "text/html": [
       "<pre>recommendations finished on 470000/478176 queries. users per second: 19036.2</pre>"
      ],
      "text/plain": [
       "recommendations finished on 470000/478176 queries. users per second: 19036.2"
      ]
     },
     "metadata": {},
     "output_type": "display_data"
    },
    {
     "data": {
      "text/html": [
       "<pre>recommendations finished on 471000/478176 queries. users per second: 19012.9</pre>"
      ],
      "text/plain": [
       "recommendations finished on 471000/478176 queries. users per second: 19012.9"
      ]
     },
     "metadata": {},
     "output_type": "display_data"
    },
    {
     "data": {
      "text/html": [
       "<pre>recommendations finished on 472000/478176 queries. users per second: 19006.8</pre>"
      ],
      "text/plain": [
       "recommendations finished on 472000/478176 queries. users per second: 19006.8"
      ]
     },
     "metadata": {},
     "output_type": "display_data"
    },
    {
     "data": {
      "text/html": [
       "<pre>recommendations finished on 473000/478176 queries. users per second: 19004.1</pre>"
      ],
      "text/plain": [
       "recommendations finished on 473000/478176 queries. users per second: 19004.1"
      ]
     },
     "metadata": {},
     "output_type": "display_data"
    },
    {
     "data": {
      "text/html": [
       "<pre>recommendations finished on 474000/478176 queries. users per second: 18992.9</pre>"
      ],
      "text/plain": [
       "recommendations finished on 474000/478176 queries. users per second: 18992.9"
      ]
     },
     "metadata": {},
     "output_type": "display_data"
    },
    {
     "data": {
      "text/html": [
       "<pre>recommendations finished on 475000/478176 queries. users per second: 18959.4</pre>"
      ],
      "text/plain": [
       "recommendations finished on 475000/478176 queries. users per second: 18959.4"
      ]
     },
     "metadata": {},
     "output_type": "display_data"
    },
    {
     "data": {
      "text/html": [
       "<pre>recommendations finished on 476000/478176 queries. users per second: 18924.3</pre>"
      ],
      "text/plain": [
       "recommendations finished on 476000/478176 queries. users per second: 18924.3"
      ]
     },
     "metadata": {},
     "output_type": "display_data"
    },
    {
     "data": {
      "text/html": [
       "<pre>recommendations finished on 477000/478176 queries. users per second: 18900.6</pre>"
      ],
      "text/plain": [
       "recommendations finished on 477000/478176 queries. users per second: 18900.6"
      ]
     },
     "metadata": {},
     "output_type": "display_data"
    },
    {
     "data": {
      "text/html": [
       "<pre>recommendations finished on 478000/478176 queries. users per second: 18865.9</pre>"
      ],
      "text/plain": [
       "recommendations finished on 478000/478176 queries. users per second: 18865.9"
      ]
     },
     "metadata": {},
     "output_type": "display_data"
    },
    {
     "name": "stdout",
     "output_type": "stream",
     "text": [
      "+---------+---------+---------------+------+\n",
      "| user_id | item_id |     score     | rank |\n",
      "+---------+---------+---------------+------+\n",
      "|  273292 |   4633  | 4.49630936028 |  1   |\n",
      "|  273292 |  17157  | 4.30956014039 |  2   |\n",
      "|  273292 |   8327  | 4.24540116431 |  3   |\n",
      "|  273292 |   571   | 4.15909259559 |  4   |\n",
      "|  273292 |   6739  | 4.15531297566 |  5   |\n",
      "|  273292 |   9381  | 4.13488866927 |  6   |\n",
      "|  273292 |   6908  |  4.1257137263 |  7   |\n",
      "|  273292 |   3148  | 4.12365080954 |  8   |\n",
      "|  273292 |  16954  | 4.10764280499 |  9   |\n",
      "|  273292 |   5137  | 4.08262123705 |  10  |\n",
      "+---------+---------+---------------+------+\n",
      "[4781760 rows x 4 columns]\n",
      "Note: Only the head of the SFrame is printed.\n",
      "You can use print_rows(num_rows=m, num_columns=n) to print more rows and columns.\n"
     ]
    }
   ],
   "source": [
    "m = gl.recommender.create(sf, target='rating')\n",
    "recs = m.recommend()\n",
    "print recs"
   ]
  },
  {
   "cell_type": "code",
   "execution_count": 6,
   "metadata": {
    "collapsed": true
   },
   "outputs": [],
   "source": [
    "sf_out = recs"
   ]
  },
  {
   "cell_type": "code",
   "execution_count": 8,
   "metadata": {
    "collapsed": false
   },
   "outputs": [],
   "source": [
    "sf_out.save('D:/CD/Sp16/BD/ETL/Prod/Final_UserMovieRating_Filtered_Recommender_Output.csv',format='csv')"
   ]
  },
  {
   "cell_type": "code",
   "execution_count": null,
   "metadata": {
    "collapsed": true
   },
   "outputs": [],
   "source": []
  }
 ],
 "metadata": {
  "kernelspec": {
   "display_name": "Python 2",
   "language": "python",
   "name": "python2"
  },
  "language_info": {
   "codemirror_mode": {
    "name": "ipython",
    "version": 2
   },
   "file_extension": ".py",
   "mimetype": "text/x-python",
   "name": "python",
   "nbconvert_exporter": "python",
   "pygments_lexer": "ipython2",
   "version": "2.7.11"
  }
 },
 "nbformat": 4,
 "nbformat_minor": 0
}
